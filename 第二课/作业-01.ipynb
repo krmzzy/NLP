{
 "cells": [
  {
   "cell_type": "markdown",
   "metadata": {},
   "source": [
    "# AI for NLP. Lecture 1 Part 1"
   ]
  },
  {
   "cell_type": "markdown",
   "metadata": {},
   "source": [
    "#  Build Graph"
   ]
  },
  {
   "cell_type": "code",
   "execution_count": 1,
   "metadata": {},
   "outputs": [],
   "source": [
    "coordination_source =\"\"\"\n",
    "{name:'兰州', geoCoord:[103.73, 36.03]},\n",
    "{name:'嘉峪关', geoCoord:[98.17, 39.47]},\n",
    "{name:'西宁', geoCoord:[101.74, 36.56]},\n",
    "{name:'成都', geoCoord:[104.06, 30.67]},\n",
    "{name:'石家庄', geoCoord:[114.48, 38.03]},\n",
    "{name:'拉萨', geoCoord:[102.73, 25.04]},\n",
    "{name:'贵阳', geoCoord:[106.71, 26.57]},\n",
    "{name:'武汉', geoCoord:[114.31, 30.52]},\n",
    "{name:'郑州', geoCoord:[113.65, 34.76]},\n",
    "{name:'济南', geoCoord:[117, 36.65]},\n",
    "{name:'南京', geoCoord:[118.78, 32.04]},\n",
    "{name:'合肥', geoCoord:[117.27, 31.86]},\n",
    "{name:'杭州', geoCoord:[120.19, 30.26]},\n",
    "{name:'南昌', geoCoord:[115.89, 28.68]},\n",
    "{name:'福州', geoCoord:[119.3, 26.08]},\n",
    "{name:'广州', geoCoord:[113.23, 23.16]},\n",
    "{name:'长沙', geoCoord:[113, 28.21]},\n",
    "//{name:'海口', geoCoord:[110.35, 20.02]},\n",
    "{name:'沈阳', geoCoord:[123.38, 41.8]},\n",
    "{name:'长春', geoCoord:[125.35, 43.88]},\n",
    "{name:'哈尔滨', geoCoord:[126.63, 45.75]},\n",
    "{name:'太原', geoCoord:[112.53, 37.87]},\n",
    "{name:'西安', geoCoord:[108.95, 34.27]},\n",
    "//{name:'台湾', geoCoord:[121.30, 25.03]},\n",
    "{name:'北京', geoCoord:[116.46, 39.92]},\n",
    "{name:'上海', geoCoord:[121.48, 31.22]},\n",
    "{name:'重庆', geoCoord:[106.54, 29.59]},\n",
    "{name:'天津', geoCoord:[117.2, 39.13]},\n",
    "{name:'呼和浩特', geoCoord:[111.65, 40.82]},\n",
    "{name:'南宁', geoCoord:[108.33, 22.84]},\n",
    "//{name:'西藏', geoCoord:[91.11, 29.97]},\n",
    "{name:'银川', geoCoord:[106.27, 38.47]},\n",
    "{name:'乌鲁木齐', geoCoord:[87.68, 43.77]},\n",
    "{name:'香港', geoCoord:[114.17, 22.28]},\n",
    "{name:'澳门', geoCoord:[113.54, 22.19]}\n",
    "\"\"\""
   ]
  },
  {
   "cell_type": "markdown",
   "metadata": {},
   "source": [
    "### Get data from source using regular expression"
   ]
  },
  {
   "cell_type": "code",
   "execution_count": 2,
   "metadata": {},
   "outputs": [],
   "source": [
    "import re"
   ]
  },
  {
   "cell_type": "markdown",
   "metadata": {},
   "source": [
    "### regular expression\n",
    "\n",
    "[a-z][A-Z][^a]:negation colou?r:? zero or one of its previous character\n",
    "\n",
    ". : zero or more of its previous character +: one or more.:match any single character ^:start of the line $:end of the line|[cat|dog]:cat or dog (da):make the string da like a character"
   ]
  },
  {
   "cell_type": "code",
   "execution_count": 3,
   "metadata": {},
   "outputs": [],
   "source": [
    "l = \"color or colour\""
   ]
  },
  {
   "cell_type": "code",
   "execution_count": 4,
   "metadata": {},
   "outputs": [
    {
     "data": {
      "text/plain": [
       "['color', 'colour']"
      ]
     },
     "execution_count": 4,
     "metadata": {},
     "output_type": "execute_result"
    }
   ],
   "source": [
    "pattern = re.compile(\"colou?r\")\n",
    "pattern.findall(l)"
   ]
  },
  {
   "cell_type": "code",
   "execution_count": 5,
   "metadata": {},
   "outputs": [
    {
     "data": {
      "text/plain": [
       "[]"
      ]
     },
     "execution_count": 5,
     "metadata": {},
     "output_type": "execute_result"
    }
   ],
   "source": [
    "re.findall(\"[A-Z]\",l)"
   ]
  },
  {
   "cell_type": "code",
   "execution_count": 6,
   "metadata": {},
   "outputs": [],
   "source": [
    "def get_city_info(city_coordination):\n",
    "    city_location = {}\n",
    "    for line in city_coordination.split(\"\\n\"):\n",
    "        if line.startswith(\"//\"): continue\n",
    "        if line.strip() == \"\":continue\n",
    "        \n",
    "        city = re.findall(\"name:'(\\w+)'\",line)[0]\n",
    "        x_y = re.findall(\"Coord:\\[(\\d+.\\d+),\\s(\\d+.\\d+)\\]\",line)[0]\n",
    "        x_y = tuple(map(float,x_y))\n",
    "        city_location[city] = x_y\n",
    "    return city_location"
   ]
  },
  {
   "cell_type": "code",
   "execution_count": 7,
   "metadata": {},
   "outputs": [],
   "source": [
    "city_info = get_city_info(coordination_source)"
   ]
  },
  {
   "cell_type": "code",
   "execution_count": 8,
   "metadata": {},
   "outputs": [
    {
     "data": {
      "text/plain": [
       "{'兰州': (103.73, 36.03),\n",
       " '嘉峪关': (98.17, 39.47),\n",
       " '西宁': (101.74, 36.56),\n",
       " '成都': (104.06, 30.67),\n",
       " '石家庄': (114.48, 38.03),\n",
       " '拉萨': (102.73, 25.04),\n",
       " '贵阳': (106.71, 26.57),\n",
       " '武汉': (114.31, 30.52),\n",
       " '郑州': (113.65, 34.76),\n",
       " '济南': (117.0, 36.65),\n",
       " '南京': (118.78, 32.04),\n",
       " '合肥': (117.27, 31.86),\n",
       " '杭州': (120.19, 30.26),\n",
       " '南昌': (115.89, 28.68),\n",
       " '福州': (119.3, 26.08),\n",
       " '广州': (113.23, 23.16),\n",
       " '长沙': (113.0, 28.21),\n",
       " '沈阳': (123.38, 41.8),\n",
       " '长春': (125.35, 43.88),\n",
       " '哈尔滨': (126.63, 45.75),\n",
       " '太原': (112.53, 37.87),\n",
       " '西安': (108.95, 34.27),\n",
       " '北京': (116.46, 39.92),\n",
       " '上海': (121.48, 31.22),\n",
       " '重庆': (106.54, 29.59),\n",
       " '天津': (117.2, 39.13),\n",
       " '呼和浩特': (111.65, 40.82),\n",
       " '南宁': (108.33, 22.84),\n",
       " '银川': (106.27, 38.47),\n",
       " '乌鲁木齐': (87.68, 43.77),\n",
       " '香港': (114.17, 22.28),\n",
       " '澳门': (113.54, 22.19)}"
      ]
     },
     "execution_count": 8,
     "metadata": {},
     "output_type": "execute_result"
    }
   ],
   "source": [
    "city_info"
   ]
  },
  {
   "cell_type": "markdown",
   "metadata": {},
   "source": [
    "## Compute distance between cities"
   ]
  },
  {
   "cell_type": "code",
   "execution_count": 9,
   "metadata": {},
   "outputs": [],
   "source": [
    "import math \n",
    "\n",
    "def geo_distance(origin, destination):\n",
    "    \"\"\"\n",
    "    Calculate the Haversine distance.\n",
    "    \n",
    "    Parameters\n",
    "    ----------\n",
    "    origin : tuple of float\n",
    "        (lat, long)\n",
    "    destination : tuple of float\n",
    "        (lat, long)\n",
    "        \n",
    "    Returns\n",
    "    -------\n",
    "    distance_in_km : float\n",
    "    \n",
    "    Examples\n",
    "    --------\n",
    "    >>> origin = (48.1372, 11.5756)  # Munict\n",
    "    >>> destination = (52.5186, 13.4083)  # Berlin\n",
    "    >>> round(distance(origin, destination), 1)\n",
    "    504.2\n",
    "    \"\"\"\n",
    "    lat1, lon1 = origin\n",
    "    lat2, lon2 = destination \n",
    "    radius = 6371  # km\n",
    "    \n",
    "    dlat = math.radians(lat2 - lat1)\n",
    "    dlon = math.radians(lon2 - lon1)\n",
    "    a = (math.sin(dlat / 2) * math.sin(dlat / 2) +\n",
    "         math.cos(math.radians(lat1)) * math.cos(math.radians(lat2)) * \n",
    "         math.sin(dlon /2) * math.sin(dlon /2))\n",
    "    c = 2 * math.atan2(math.sqrt(a), math.sqrt(1 - a))\n",
    "    d = radius * c\n",
    "    \n",
    "    return d"
   ]
  },
  {
   "cell_type": "code",
   "execution_count": 10,
   "metadata": {},
   "outputs": [
    {
     "data": {
      "text/plain": [
       "153.5185697155768"
      ]
     },
     "execution_count": 10,
     "metadata": {},
     "output_type": "execute_result"
    }
   ],
   "source": [
    "def get_city_distance(city1,city2):\n",
    "    return geo_distance(city_info[city1],city_info[city2])\n",
    "\n",
    "get_city_distance(\"杭州\",\"上海\")"
   ]
  },
  {
   "cell_type": "markdown",
   "metadata": {},
   "source": [
    "## Draw the graph"
   ]
  },
  {
   "cell_type": "code",
   "execution_count": 13,
   "metadata": {},
   "outputs": [],
   "source": [
    "import networkx as nx\n",
    "import matplotlib.pyplot as plt\n",
    "\n",
    "#%matplotlib inline\n",
    "\n",
    "#plt.rcParams['font.sans-serif'] = ['SimHei']\n",
    "#Plt.rcParams['axes.unicode_minus'] = False\n"
   ]
  },
  {
   "cell_type": "code",
   "execution_count": 14,
   "metadata": {},
   "outputs": [
    {
     "data": {
      "text/plain": [
       "dict_keys(['兰州', '嘉峪关', '西宁', '成都', '石家庄', '拉萨', '贵阳', '武汉', '郑州', '济南', '南京', '合肥', '杭州', '南昌', '福州', '广州', '长沙', '沈阳', '长春', '哈尔滨', '太原', '西安', '北京', '上海', '重庆', '天津', '呼和浩特', '南宁', '银川', '乌鲁木齐', '香港', '澳门'])"
      ]
     },
     "execution_count": 14,
     "metadata": {},
     "output_type": "execute_result"
    }
   ],
   "source": [
    "city_info.keys()"
   ]
  },
  {
   "cell_type": "code",
   "execution_count": 15,
   "metadata": {},
   "outputs": [],
   "source": [
    "city_graph = nx.Graph()\n",
    "\n",
    "city_graph.add_nodes_from(list(city_info.keys()))\n"
   ]
  },
  {
   "cell_type": "code",
   "execution_count": 16,
   "metadata": {},
   "outputs": [
    {
     "data": {
      "image/png": "[encoded data removed]",
      "text/plain": [
       "<Figure size 432x288 with 1 Axes>"
      ]
     },
     "metadata": {},
     "output_type": "display_data"
    }
   ],
   "source": [
    "nx.draw(city_graph, city_info, with_labels=True, node_size=20)"
   ]
  },
  {
   "cell_type": "code",
   "execution_count": 17,
   "metadata": {},
   "outputs": [],
   "source": [
    "threshold = 700  # defined the threshold"
   ]
  },
  {
   "cell_type": "code",
   "execution_count": 18,
   "metadata": {},
   "outputs": [],
   "source": [
    "from collections import defaultdict"
   ]
  },
  {
   "cell_type": "code",
   "execution_count": 62,
   "metadata": {},
   "outputs": [],
   "source": [
    "def build_connection(city_info):\n",
    "    cities_connection = defaultdict(list)\n",
    "    cities = list(city_info.keys())\n",
    "    for c1 in cities:\n",
    "        for c2 in cities:\n",
    "            if c1 == c2 : continue\n",
    "            \n",
    "            if get_city_distance(c1,c2) < threshold:\n",
    "                cities_connection[c1].append(c2)\n",
    "    return cities_connection\n"
   ]
  },
  {
   "cell_type": "code",
   "execution_count": 63,
   "metadata": {},
   "outputs": [],
   "source": [
    "cities_connection = build_connection(city_info)"
   ]
  },
  {
   "cell_type": "code",
   "execution_count": 64,
   "metadata": {},
   "outputs": [
    {
     "data": {
      "text/plain": [
       "defaultdict(list,\n",
       "            {'兰州': ['嘉峪关', '西宁', '成都', '拉萨', '贵阳', '西安', '重庆', '南宁', '银川'],\n",
       "             '嘉峪关': ['兰州', '西宁', '成都', '拉萨'],\n",
       "             '西宁': ['兰州', '嘉峪关', '成都', '拉萨', '贵阳', '重庆', '银川'],\n",
       "             '成都': ['兰州', '嘉峪关', '西宁', '拉萨', '贵阳', '西安', '重庆', '南宁', '银川'],\n",
       "             '石家庄': ['武汉',\n",
       "              '郑州',\n",
       "              '济南',\n",
       "              '南京',\n",
       "              '合肥',\n",
       "              '南昌',\n",
       "              '广州',\n",
       "              '长沙',\n",
       "              '太原',\n",
       "              '西安',\n",
       "              '北京',\n",
       "              '天津',\n",
       "              '呼和浩特'],\n",
       "             '拉萨': ['兰州', '嘉峪关', '西宁', '成都', '贵阳', '重庆', '南宁', '银川'],\n",
       "             '贵阳': ['兰州', '西宁', '成都', '拉萨', '西安', '重庆', '南宁', '银川'],\n",
       "             '武汉': ['石家庄',\n",
       "              '郑州',\n",
       "              '济南',\n",
       "              '南京',\n",
       "              '合肥',\n",
       "              '杭州',\n",
       "              '南昌',\n",
       "              '福州',\n",
       "              '广州',\n",
       "              '长沙',\n",
       "              '太原',\n",
       "              '西安',\n",
       "              '北京',\n",
       "              '天津',\n",
       "              '呼和浩特',\n",
       "              '香港',\n",
       "              '澳门'],\n",
       "             '郑州': ['石家庄',\n",
       "              '武汉',\n",
       "              '济南',\n",
       "              '南京',\n",
       "              '合肥',\n",
       "              '南昌',\n",
       "              '广州',\n",
       "              '长沙',\n",
       "              '太原',\n",
       "              '西安',\n",
       "              '北京',\n",
       "              '天津',\n",
       "              '呼和浩特',\n",
       "              '香港',\n",
       "              '澳门'],\n",
       "             '济南': ['石家庄',\n",
       "              '武汉',\n",
       "              '郑州',\n",
       "              '南京',\n",
       "              '合肥',\n",
       "              '杭州',\n",
       "              '南昌',\n",
       "              '福州',\n",
       "              '长沙',\n",
       "              '太原',\n",
       "              '北京',\n",
       "              '上海',\n",
       "              '天津',\n",
       "              '呼和浩特'],\n",
       "             '南京': ['石家庄',\n",
       "              '武汉',\n",
       "              '郑州',\n",
       "              '济南',\n",
       "              '合肥',\n",
       "              '杭州',\n",
       "              '南昌',\n",
       "              '福州',\n",
       "              '长沙',\n",
       "              '北京',\n",
       "              '上海',\n",
       "              '天津'],\n",
       "             '合肥': ['石家庄',\n",
       "              '武汉',\n",
       "              '郑州',\n",
       "              '济南',\n",
       "              '南京',\n",
       "              '杭州',\n",
       "              '南昌',\n",
       "              '福州',\n",
       "              '广州',\n",
       "              '长沙',\n",
       "              '太原',\n",
       "              '北京',\n",
       "              '上海',\n",
       "              '天津',\n",
       "              '香港',\n",
       "              '澳门'],\n",
       "             '杭州': ['武汉', '济南', '南京', '合肥', '南昌', '福州', '北京', '上海', '天津'],\n",
       "             '南昌': ['石家庄',\n",
       "              '武汉',\n",
       "              '郑州',\n",
       "              '济南',\n",
       "              '南京',\n",
       "              '合肥',\n",
       "              '杭州',\n",
       "              '福州',\n",
       "              '广州',\n",
       "              '长沙',\n",
       "              '太原',\n",
       "              '北京',\n",
       "              '上海',\n",
       "              '天津',\n",
       "              '香港',\n",
       "              '澳门'],\n",
       "             '福州': ['武汉',\n",
       "              '济南',\n",
       "              '南京',\n",
       "              '合肥',\n",
       "              '杭州',\n",
       "              '南昌',\n",
       "              '广州',\n",
       "              '上海',\n",
       "              '香港',\n",
       "              '澳门'],\n",
       "             '广州': ['石家庄',\n",
       "              '武汉',\n",
       "              '郑州',\n",
       "              '合肥',\n",
       "              '南昌',\n",
       "              '福州',\n",
       "              '长沙',\n",
       "              '太原',\n",
       "              '西安',\n",
       "              '南宁',\n",
       "              '香港',\n",
       "              '澳门'],\n",
       "             '长沙': ['石家庄',\n",
       "              '武汉',\n",
       "              '郑州',\n",
       "              '济南',\n",
       "              '南京',\n",
       "              '合肥',\n",
       "              '南昌',\n",
       "              '广州',\n",
       "              '太原',\n",
       "              '西安',\n",
       "              '北京',\n",
       "              '天津',\n",
       "              '呼和浩特',\n",
       "              '南宁',\n",
       "              '香港',\n",
       "              '澳门'],\n",
       "             '沈阳': ['长春', '哈尔滨', '上海'],\n",
       "             '长春': ['沈阳', '哈尔滨'],\n",
       "             '哈尔滨': ['沈阳', '长春'],\n",
       "             '太原': ['石家庄',\n",
       "              '武汉',\n",
       "              '郑州',\n",
       "              '济南',\n",
       "              '合肥',\n",
       "              '南昌',\n",
       "              '广州',\n",
       "              '长沙',\n",
       "              '西安',\n",
       "              '北京',\n",
       "              '天津',\n",
       "              '呼和浩特',\n",
       "              '银川',\n",
       "              '澳门'],\n",
       "             '西安': ['兰州',\n",
       "              '成都',\n",
       "              '石家庄',\n",
       "              '贵阳',\n",
       "              '武汉',\n",
       "              '郑州',\n",
       "              '广州',\n",
       "              '长沙',\n",
       "              '太原',\n",
       "              '重庆',\n",
       "              '呼和浩特',\n",
       "              '南宁',\n",
       "              '银川'],\n",
       "             '北京': ['石家庄',\n",
       "              '武汉',\n",
       "              '郑州',\n",
       "              '济南',\n",
       "              '南京',\n",
       "              '合肥',\n",
       "              '杭州',\n",
       "              '南昌',\n",
       "              '长沙',\n",
       "              '太原',\n",
       "              '天津',\n",
       "              '呼和浩特'],\n",
       "             '上海': ['济南', '南京', '合肥', '杭州', '南昌', '福州', '沈阳', '天津'],\n",
       "             '重庆': ['兰州', '西宁', '成都', '拉萨', '贵阳', '西安', '呼和浩特', '南宁', '银川'],\n",
       "             '天津': ['石家庄',\n",
       "              '武汉',\n",
       "              '郑州',\n",
       "              '济南',\n",
       "              '南京',\n",
       "              '合肥',\n",
       "              '杭州',\n",
       "              '南昌',\n",
       "              '长沙',\n",
       "              '太原',\n",
       "              '北京',\n",
       "              '上海',\n",
       "              '呼和浩特'],\n",
       "             '呼和浩特': ['石家庄',\n",
       "              '武汉',\n",
       "              '郑州',\n",
       "              '济南',\n",
       "              '长沙',\n",
       "              '太原',\n",
       "              '西安',\n",
       "              '北京',\n",
       "              '重庆',\n",
       "              '天津',\n",
       "              '银川'],\n",
       "             '南宁': ['兰州',\n",
       "              '成都',\n",
       "              '拉萨',\n",
       "              '贵阳',\n",
       "              '广州',\n",
       "              '长沙',\n",
       "              '西安',\n",
       "              '重庆',\n",
       "              '银川',\n",
       "              '香港',\n",
       "              '澳门'],\n",
       "             '银川': ['兰州',\n",
       "              '西宁',\n",
       "              '成都',\n",
       "              '拉萨',\n",
       "              '贵阳',\n",
       "              '太原',\n",
       "              '西安',\n",
       "              '重庆',\n",
       "              '呼和浩特',\n",
       "              '南宁'],\n",
       "             '香港': ['武汉', '郑州', '合肥', '南昌', '福州', '广州', '长沙', '南宁', '澳门'],\n",
       "             '澳门': ['武汉',\n",
       "              '郑州',\n",
       "              '合肥',\n",
       "              '南昌',\n",
       "              '福州',\n",
       "              '广州',\n",
       "              '长沙',\n",
       "              '太原',\n",
       "              '南宁',\n",
       "              '香港']})"
      ]
     },
     "execution_count": 64,
     "metadata": {},
     "output_type": "execute_result"
    }
   ],
   "source": [
    "cities_connection"
   ]
  },
  {
   "cell_type": "code",
   "execution_count": 65,
   "metadata": {},
   "outputs": [],
   "source": [
    "cities_connection_graph = nx.Graph(cities_connection)"
   ]
  },
  {
   "cell_type": "code",
   "execution_count": 66,
   "metadata": {},
   "outputs": [
    {
     "name": "stderr",
     "output_type": "stream",
     "text": [
      "/Users/krmzzy/anaconda3/lib/python3.7/site-packages/networkx/drawing/nx_pylab.py:611: MatplotlibDeprecationWarning: isinstance(..., numbers.Number)\n",
      "  if cb.is_numlike(alpha):\n"
     ]
    },
    {
     "data": {
      "image/png": "[encoded data removed]",
      "text/plain": [
       "<Figure size 432x288 with 1 Axes>"
      ]
     },
     "metadata": {},
     "output_type": "display_data"
    }
   ],
   "source": [
    "nx.draw(cities_connection_graph,city_info,with_labels=True,node_size=10)"
   ]
  },
  {
   "cell_type": "markdown",
   "metadata": {},
   "source": [
    "## BFS "
   ]
  },
  {
   "cell_type": "code",
   "execution_count": 83,
   "metadata": {},
   "outputs": [],
   "source": [
    "def bfs(graph,start,destination):\n",
    "    pathes = [[start]]\n",
    "    visited = set()\n",
    "    \n",
    "    while pathes:\n",
    "        path = pathes.pop(0)\n",
    "        froniter = path[-1]\n",
    "        \n",
    "        if froniter in visited: continue   \n",
    "        \n",
    "        successsors = graph[froniter]\n",
    "        \n",
    "        for city in successsors:\n",
    "            if city in path: continue   \n",
    "        \n",
    "            new_path = path+[city]\n",
    "        \n",
    "            pathes.append(new_path)  \n",
    "        \n",
    "            if city == destination:\n",
    "                return new_path\n",
    "            \n",
    "        visited.add(froniter)\n",
    "        "
   ]
  },
  {
   "cell_type": "code",
   "execution_count": 84,
   "metadata": {},
   "outputs": [
    {
     "data": {
      "text/plain": [
       "['上海', '合肥', '香港']"
      ]
     },
     "execution_count": 84,
     "metadata": {},
     "output_type": "execute_result"
    }
   ],
   "source": [
    "bfs(cities_connection,\"上海\",\"香港\")"
   ]
  },
  {
   "cell_type": "code",
   "execution_count": 85,
   "metadata": {},
   "outputs": [
    {
     "data": {
      "text/plain": [
       "['拉萨', '兰州', '西安']"
      ]
     },
     "execution_count": 85,
     "metadata": {},
     "output_type": "execute_result"
    }
   ],
   "source": [
    "bfs(cities_connection,\"拉萨\",\"西安\")"
   ]
  },
  {
   "cell_type": "markdown",
   "metadata": {},
   "source": [
    "# 41"
   ]
  },
  {
   "cell_type": "code",
   "execution_count": 79,
   "metadata": {},
   "outputs": [],
   "source": [
    "def dfs(graph,start,destination):\n",
    "    pathes = [[start]]\n",
    "    visited = set()\n",
    "    \n",
    "    while pathes:\n",
    "        path = pathes.pop(0)    \n",
    "        froniter = path[-1]\n",
    "        \n",
    "        if froniter in visited: continue   \n",
    "        \n",
    "        successsors = graph[froniter]    \n",
    "        \n",
    "        for city in successsors:\n",
    "            if city in path: continue   \n",
    "        \n",
    "            new_path = path+[city]\n",
    "        \n",
    "            pathes =[new_path] + pathes\n",
    "        \n",
    "            if city == destination:\n",
    "                return new_path  \n",
    "                                   \n",
    "        visited.add(froniter)\n",
    "        "
   ]
  },
  {
   "cell_type": "code",
   "execution_count": 107,
   "metadata": {},
   "outputs": [],
   "source": [
    "def  bfs_2(graph,start,destination,search_strategy):\n",
    "    pathes = [[start]]\n",
    "    # Visited = set()\n",
    "    while pathes:\n",
    "        path = pathes.pop(0)    \n",
    "        froniter = path[-1]\n",
    "        \n",
    "        #if froniter in visited: continue\n",
    "        \n",
    "        successsors = graph[froniter]   \n",
    "        \n",
    "        for city in successsors:\n",
    "            if city in path: continue  \n",
    "            \n",
    "            new_path = path+[city]  \n",
    "            \n",
    "            pathes.append(new_path) \n",
    "            \n",
    "        pathes = search_strategy(pathes)\n",
    "   \n",
    "        if pathes and pathes[0][-1] == destination: \n",
    "            return pathes[0] \n",
    "        # vister.add(froniter)"
   ]
  },
  {
   "cell_type": "code",
   "execution_count": 87,
   "metadata": {},
   "outputs": [
    {
     "data": {
      "text/plain": [
       "['拉萨', '重庆', '呼和浩特', '北京']"
      ]
     },
     "execution_count": 87,
     "metadata": {},
     "output_type": "execute_result"
    }
   ],
   "source": [
    "bfs(cities_connection,\"拉萨\",\"北京\")"
   ]
  },
  {
   "cell_type": "code",
   "execution_count": null,
   "metadata": {},
   "outputs": [],
   "source": [
    "   # visted.add(A) "
   ]
  },
  {
   "cell_type": "code",
   "execution_count": 86,
   "metadata": {},
   "outputs": [
    {
     "data": {
      "text/plain": [
       "['拉萨', '银川', '南宁', '澳门', '香港', '长沙', '北京']"
      ]
     },
     "execution_count": 86,
     "metadata": {},
     "output_type": "execute_result"
    }
   ],
   "source": [
    "dfs(cities_connection,\"拉萨\",\"北京\")"
   ]
  },
  {
   "cell_type": "code",
   "execution_count": 91,
   "metadata": {
    "scrolled": true
   },
   "outputs": [
    {
     "name": "stdout",
     "output_type": "stream",
     "text": [
      "0 4\n",
      "1 5\n",
      "2 6\n",
      "3 7\n",
      "4 7\n"
     ]
    }
   ],
   "source": [
    "for i,j in enumerate([4,5,6,7,7]):\n",
    "    print(i,j)"
   ]
  },
  {
   "cell_type": "code",
   "execution_count": 92,
   "metadata": {},
   "outputs": [],
   "source": [
    "def sort_by_distance(pathes):\n",
    "    def get_distance_of_path(path):\n",
    "        distance = 0\n",
    "        for i,_ in enumerate(path[:-1]):\n",
    "            distance += get_city_distance(path[i],path[i+1])\n",
    "        return distance\n",
    "    \n",
    "    return sorted(pathes,key=get_distance_of_path)\n"
   ]
  },
  {
   "cell_type": "code",
   "execution_count": 93,
   "metadata": {},
   "outputs": [],
   "source": [
    "def get_distance_of_path(path):\n",
    "    distance = 0\n",
    "    for i,_ in enumerate(path[:-1]):\n",
    "        distance += get_city_distance(path[i],path[i+1])\n",
    "    return distance"
   ]
  },
  {
   "cell_type": "code",
   "execution_count": 94,
   "metadata": {},
   "outputs": [
    {
     "data": {
      "text/plain": [
       "752.66259009181"
      ]
     },
     "execution_count": 94,
     "metadata": {},
     "output_type": "execute_result"
    }
   ],
   "source": [
    "get_distance_of_path([\"北京\",\"济南\",\"上海\"])"
   ]
  },
  {
   "cell_type": "code",
   "execution_count": 95,
   "metadata": {},
   "outputs": [
    {
     "data": {
      "text/plain": [
       "732.5085345714293"
      ]
     },
     "execution_count": 95,
     "metadata": {},
     "output_type": "execute_result"
    }
   ],
   "source": [
    "get_distance_of_path([\"北京\",\"天津\",\"上海\"])"
   ]
  },
  {
   "cell_type": "code",
   "execution_count": 108,
   "metadata": {},
   "outputs": [
    {
     "data": {
      "text/plain": [
       "['上海', '福州', '香港']"
      ]
     },
     "execution_count": 108,
     "metadata": {},
     "output_type": "execute_result"
    }
   ],
   "source": [
    "bfs_2(cities_connection,\"上海\",\"香港\",search_strategy=sort_by_distance)"
   ]
  },
  {
   "cell_type": "code",
   "execution_count": 99,
   "metadata": {},
   "outputs": [
    {
     "data": {
      "text/plain": [
       "['北京', '济南', '上海']"
      ]
     },
     "execution_count": 99,
     "metadata": {},
     "output_type": "execute_result"
    }
   ],
   "source": [
    "bfs(cities_connection,\"北京\",\"上海\")"
   ]
  },
  {
   "cell_type": "code",
   "execution_count": 100,
   "metadata": {},
   "outputs": [
    {
     "data": {
      "text/plain": [
       "752.66259009181"
      ]
     },
     "execution_count": 100,
     "metadata": {},
     "output_type": "execute_result"
    }
   ],
   "source": [
    "get_distance_of_path([\"北京\",\"济南\",\"上海\"])"
   ]
  },
  {
   "cell_type": "markdown",
   "metadata": {},
   "source": [
    "# AI for NLP Lecture 1 Part 2\n",
    "\n",
    "## Machine Learning"
   ]
  },
  {
   "cell_type": "code",
   "execution_count": 123,
   "metadata": {},
   "outputs": [],
   "source": [
    "from sklearn.datasets import load_boston\n",
    "import random"
   ]
  },
  {
   "cell_type": "code",
   "execution_count": 124,
   "metadata": {},
   "outputs": [],
   "source": [
    "dataset = load_boston()"
   ]
  },
  {
   "cell_type": "code",
   "execution_count": 113,
   "metadata": {},
   "outputs": [
    {
     "data": {
      "text/plain": [
       "{'data': array([[6.3200e-03, 1.8000e+01, 2.3100e+00, ..., 1.5300e+01, 3.9690e+02,\n",
       "         4.9800e+00],\n",
       "        [2.7310e-02, 0.0000e+00, 7.0700e+00, ..., 1.7800e+01, 3.9690e+02,\n",
       "         9.1400e+00],\n",
       "        [2.7290e-02, 0.0000e+00, 7.0700e+00, ..., 1.7800e+01, 3.9283e+02,\n",
       "         4.0300e+00],\n",
       "        ...,\n",
       "        [6.0760e-02, 0.0000e+00, 1.1930e+01, ..., 2.1000e+01, 3.9690e+02,\n",
       "         5.6400e+00],\n",
       "        [1.0959e-01, 0.0000e+00, 1.1930e+01, ..., 2.1000e+01, 3.9345e+02,\n",
       "         6.4800e+00],\n",
       "        [4.7410e-02, 0.0000e+00, 1.1930e+01, ..., 2.1000e+01, 3.9690e+02,\n",
       "         7.8800e+00]]),\n",
       " 'target': array([24. , 21.6, 34.7, 33.4, 36.2, 28.7, 22.9, 27.1, 16.5, 18.9, 15. ,\n",
       "        18.9, 21.7, 20.4, 18.2, 19.9, 23.1, 17.5, 20.2, 18.2, 13.6, 19.6,\n",
       "        15.2, 14.5, 15.6, 13.9, 16.6, 14.8, 18.4, 21. , 12.7, 14.5, 13.2,\n",
       "        13.1, 13.5, 18.9, 20. , 21. , 24.7, 30.8, 34.9, 26.6, 25.3, 24.7,\n",
       "        21.2, 19.3, 20. , 16.6, 14.4, 19.4, 19.7, 20.5, 25. , 23.4, 18.9,\n",
       "        35.4, 24.7, 31.6, 23.3, 19.6, 18.7, 16. , 22.2, 25. , 33. , 23.5,\n",
       "        19.4, 22. , 17.4, 20.9, 24.2, 21.7, 22.8, 23.4, 24.1, 21.4, 20. ,\n",
       "        20.8, 21.2, 20.3, 28. , 23.9, 24.8, 22.9, 23.9, 26.6, 22.5, 22.2,\n",
       "        23.6, 28.7, 22.6, 22. , 22.9, 25. , 20.6, 28.4, 21.4, 38.7, 43.8,\n",
       "        33.2, 27.5, 26.5, 18.6, 19.3, 20.1, 19.5, 19.5, 20.4, 19.8, 19.4,\n",
       "        21.7, 22.8, 18.8, 18.7, 18.5, 18.3, 21.2, 19.2, 20.4, 19.3, 22. ,\n",
       "        20.3, 20.5, 17.3, 18.8, 21.4, 15.7, 16.2, 18. , 14.3, 19.2, 19.6,\n",
       "        23. , 18.4, 15.6, 18.1, 17.4, 17.1, 13.3, 17.8, 14. , 14.4, 13.4,\n",
       "        15.6, 11.8, 13.8, 15.6, 14.6, 17.8, 15.4, 21.5, 19.6, 15.3, 19.4,\n",
       "        17. , 15.6, 13.1, 41.3, 24.3, 23.3, 27. , 50. , 50. , 50. , 22.7,\n",
       "        25. , 50. , 23.8, 23.8, 22.3, 17.4, 19.1, 23.1, 23.6, 22.6, 29.4,\n",
       "        23.2, 24.6, 29.9, 37.2, 39.8, 36.2, 37.9, 32.5, 26.4, 29.6, 50. ,\n",
       "        32. , 29.8, 34.9, 37. , 30.5, 36.4, 31.1, 29.1, 50. , 33.3, 30.3,\n",
       "        34.6, 34.9, 32.9, 24.1, 42.3, 48.5, 50. , 22.6, 24.4, 22.5, 24.4,\n",
       "        20. , 21.7, 19.3, 22.4, 28.1, 23.7, 25. , 23.3, 28.7, 21.5, 23. ,\n",
       "        26.7, 21.7, 27.5, 30.1, 44.8, 50. , 37.6, 31.6, 46.7, 31.5, 24.3,\n",
       "        31.7, 41.7, 48.3, 29. , 24. , 25.1, 31.5, 23.7, 23.3, 22. , 20.1,\n",
       "        22.2, 23.7, 17.6, 18.5, 24.3, 20.5, 24.5, 26.2, 24.4, 24.8, 29.6,\n",
       "        42.8, 21.9, 20.9, 44. , 50. , 36. , 30.1, 33.8, 43.1, 48.8, 31. ,\n",
       "        36.5, 22.8, 30.7, 50. , 43.5, 20.7, 21.1, 25.2, 24.4, 35.2, 32.4,\n",
       "        32. , 33.2, 33.1, 29.1, 35.1, 45.4, 35.4, 46. , 50. , 32.2, 22. ,\n",
       "        20.1, 23.2, 22.3, 24.8, 28.5, 37.3, 27.9, 23.9, 21.7, 28.6, 27.1,\n",
       "        20.3, 22.5, 29. , 24.8, 22. , 26.4, 33.1, 36.1, 28.4, 33.4, 28.2,\n",
       "        22.8, 20.3, 16.1, 22.1, 19.4, 21.6, 23.8, 16.2, 17.8, 19.8, 23.1,\n",
       "        21. , 23.8, 23.1, 20.4, 18.5, 25. , 24.6, 23. , 22.2, 19.3, 22.6,\n",
       "        19.8, 17.1, 19.4, 22.2, 20.7, 21.1, 19.5, 18.5, 20.6, 19. , 18.7,\n",
       "        32.7, 16.5, 23.9, 31.2, 17.5, 17.2, 23.1, 24.5, 26.6, 22.9, 24.1,\n",
       "        18.6, 30.1, 18.2, 20.6, 17.8, 21.7, 22.7, 22.6, 25. , 19.9, 20.8,\n",
       "        16.8, 21.9, 27.5, 21.9, 23.1, 50. , 50. , 50. , 50. , 50. , 13.8,\n",
       "        13.8, 15. , 13.9, 13.3, 13.1, 10.2, 10.4, 10.9, 11.3, 12.3,  8.8,\n",
       "         7.2, 10.5,  7.4, 10.2, 11.5, 15.1, 23.2,  9.7, 13.8, 12.7, 13.1,\n",
       "        12.5,  8.5,  5. ,  6.3,  5.6,  7.2, 12.1,  8.3,  8.5,  5. , 11.9,\n",
       "        27.9, 17.2, 27.5, 15. , 17.2, 17.9, 16.3,  7. ,  7.2,  7.5, 10.4,\n",
       "         8.8,  8.4, 16.7, 14.2, 20.8, 13.4, 11.7,  8.3, 10.2, 10.9, 11. ,\n",
       "         9.5, 14.5, 14.1, 16.1, 14.3, 11.7, 13.4,  9.6,  8.7,  8.4, 12.8,\n",
       "        10.5, 17.1, 18.4, 15.4, 10.8, 11.8, 14.9, 12.6, 14.1, 13. , 13.4,\n",
       "        15.2, 16.1, 17.8, 14.9, 14.1, 12.7, 13.5, 14.9, 20. , 16.4, 17.7,\n",
       "        19.5, 20.2, 21.4, 19.9, 19. , 19.1, 19.1, 20.1, 19.9, 19.6, 23.2,\n",
       "        29.8, 13.8, 13.3, 16.7, 12. , 14.6, 21.4, 23. , 23.7, 25. , 21.8,\n",
       "        20.6, 21.2, 19.1, 20.6, 15.2,  7. ,  8.1, 13.6, 20.1, 21.8, 24.5,\n",
       "        23.1, 19.7, 18.3, 21.2, 17.5, 16.8, 22.4, 20.6, 23.9, 22. , 11.9]),\n",
       " 'feature_names': array(['CRIM', 'ZN', 'INDUS', 'CHAS', 'NOX', 'RM', 'AGE', 'DIS', 'RAD',\n",
       "        'TAX', 'PTRATIO', 'B', 'LSTAT'], dtype='<U7'),\n",
       " 'DESCR': \".. _boston_dataset:\\n\\nBoston house prices dataset\\n---------------------------\\n\\n**Data Set Characteristics:**  \\n\\n    :Number of Instances: 506 \\n\\n    :Number of Attributes: 13 numeric/categorical predictive. Median Value (attribute 14) is usually the target.\\n\\n    :Attribute Information (in order):\\n        - CRIM     per capita crime rate by town\\n        - ZN       proportion of residential land zoned for lots over 25,000 sq.ft.\\n        - INDUS    proportion of non-retail business acres per town\\n        - CHAS     Charles River dummy variable (= 1 if tract bounds river; 0 otherwise)\\n        - NOX      nitric oxides concentration (parts per 10 million)\\n        - RM       average number of rooms per dwelling\\n        - AGE      proportion of owner-occupied units built prior to 1940\\n        - DIS      weighted distances to five Boston employment centres\\n        - RAD      index of accessibility to radial highways\\n        - TAX      full-value property-tax rate per $10,000\\n        - PTRATIO  pupil-teacher ratio by town\\n        - B        1000(Bk - 0.63)^2 where Bk is the proportion of blacks by town\\n        - LSTAT    % lower status of the population\\n        - MEDV     Median value of owner-occupied homes in $1000's\\n\\n    :Missing Attribute Values: None\\n\\n    :Creator: Harrison, D. and Rubinfeld, D.L.\\n\\nThis is a copy of UCI ML housing dataset.\\nhttps://archive.ics.uci.edu/ml/machine-learning-databases/housing/\\n\\n\\nThis dataset was taken from the StatLib library which is maintained at Carnegie Mellon University.\\n\\nThe Boston house-price data of Harrison, D. and Rubinfeld, D.L. 'Hedonic\\nprices and the demand for clean air', J. Environ. Economics & Management,\\nvol.5, 81-102, 1978.   Used in Belsley, Kuh & Welsch, 'Regression diagnostics\\n...', Wiley, 1980.   N.B. Various transformations are used in the table on\\npages 244-261 of the latter.\\n\\nThe Boston house-price data has been used in many machine learning papers that address regression\\nproblems.   \\n     \\n.. topic:: References\\n\\n   - Belsley, Kuh & Welsch, 'Regression diagnostics: Identifying Influential Data and Sources of Collinearity', Wiley, 1980. 244-261.\\n   - Quinlan,R. (1993). Combining Instance-Based and Model-Based Learning. In Proceedings on the Tenth International Conference of Machine Learning, 236-243, University of Massachusetts, Amherst. Morgan Kaufmann.\\n\",\n",
       " 'filename': '/Users/krmzzy/anaconda3/lib/python3.7/site-packages/sklearn/datasets/data/boston_house_prices.csv'}"
      ]
     },
     "execution_count": 113,
     "metadata": {},
     "output_type": "execute_result"
    }
   ],
   "source": [
    "#dataset"
   ]
  },
  {
   "cell_type": "code",
   "execution_count": 125,
   "metadata": {},
   "outputs": [],
   "source": [
    "x,y=dataset['data'],dataset['target']"
   ]
  },
  {
   "cell_type": "code",
   "execution_count": 126,
   "metadata": {},
   "outputs": [
    {
     "data": {
      "text/plain": [
       "(506, 13)"
      ]
     },
     "execution_count": 126,
     "metadata": {},
     "output_type": "execute_result"
    }
   ],
   "source": [
    "x.shape"
   ]
  },
  {
   "cell_type": "code",
   "execution_count": 127,
   "metadata": {},
   "outputs": [
    {
     "data": {
      "text/plain": [
       "(506,)"
      ]
     },
     "execution_count": 127,
     "metadata": {},
     "output_type": "execute_result"
    }
   ],
   "source": [
    "y.shape"
   ]
  },
  {
   "cell_type": "code",
   "execution_count": 128,
   "metadata": {},
   "outputs": [
    {
     "data": {
      "text/plain": [
       "array([2.7310e-02, 0.0000e+00, 7.0700e+00, 0.0000e+00, 4.6900e-01,\n",
       "       6.4210e+00, 7.8900e+01, 4.9671e+00, 2.0000e+00, 2.4200e+02,\n",
       "       1.7800e+01, 3.9690e+02, 9.1400e+00])"
      ]
     },
     "execution_count": 128,
     "metadata": {},
     "output_type": "execute_result"
    }
   ],
   "source": [
    "x[1].shape\n",
    "x[1]"
   ]
  },
  {
   "cell_type": "code",
   "execution_count": 129,
   "metadata": {},
   "outputs": [
    {
     "data": {
      "text/plain": [
       "array(['CRIM', 'ZN', 'INDUS', 'CHAS', 'NOX', 'RM', 'AGE', 'DIS', 'RAD',\n",
       "       'TAX', 'PTRATIO', 'B', 'LSTAT'], dtype='<U7')"
      ]
     },
     "execution_count": 129,
     "metadata": {},
     "output_type": "execute_result"
    }
   ],
   "source": [
    "dataset.feature_names"
   ]
  },
  {
   "cell_type": "code",
   "execution_count": 130,
   "metadata": {},
   "outputs": [
    {
     "data": {
      "text/plain": [
       "\".. _boston_dataset:\\n\\nBoston house prices dataset\\n---------------------------\\n\\n**Data Set Characteristics:**  \\n\\n    :Number of Instances: 506 \\n\\n    :Number of Attributes: 13 numeric/categorical predictive. Median Value (attribute 14) is usually the target.\\n\\n    :Attribute Information (in order):\\n        - CRIM     per capita crime rate by town\\n        - ZN       proportion of residential land zoned for lots over 25,000 sq.ft.\\n        - INDUS    proportion of non-retail business acres per town\\n        - CHAS     Charles River dummy variable (= 1 if tract bounds river; 0 otherwise)\\n        - NOX      nitric oxides concentration (parts per 10 million)\\n        - RM       average number of rooms per dwelling\\n        - AGE      proportion of owner-occupied units built prior to 1940\\n        - DIS      weighted distances to five Boston employment centres\\n        - RAD      index of accessibility to radial highways\\n        - TAX      full-value property-tax rate per $10,000\\n        - PTRATIO  pupil-teacher ratio by town\\n        - B        1000(Bk - 0.63)^2 where Bk is the proportion of blacks by town\\n        - LSTAT    % lower status of the population\\n        - MEDV     Median value of owner-occupied homes in $1000's\\n\\n    :Missing Attribute Values: None\\n\\n    :Creator: Harrison, D. and Rubinfeld, D.L.\\n\\nThis is a copy of UCI ML housing dataset.\\nhttps://archive.ics.uci.edu/ml/machine-learning-databases/housing/\\n\\n\\nThis dataset was taken from the StatLib library which is maintained at Carnegie Mellon University.\\n\\nThe Boston house-price data of Harrison, D. and Rubinfeld, D.L. 'Hedonic\\nprices and the demand for clean air', J. Environ. Economics & Management,\\nvol.5, 81-102, 1978.   Used in Belsley, Kuh & Welsch, 'Regression diagnostics\\n...', Wiley, 1980.   N.B. Various transformations are used in the table on\\npages 244-261 of the latter.\\n\\nThe Boston house-price data has been used in many machine learning papers that address regression\\nproblems.   \\n     \\n.. topic:: References\\n\\n   - Belsley, Kuh & Welsch, 'Regression diagnostics: Identifying Influential Data and Sources of Collinearity', Wiley, 1980. 244-261.\\n   - Quinlan,R. (1993). Combining Instance-Based and Model-Based Learning. In Proceedings on the Tenth International Conference of Machine Learning, 236-243, University of Massachusetts, Amherst. Morgan Kaufmann.\\n\""
      ]
     },
     "execution_count": 130,
     "metadata": {},
     "output_type": "execute_result"
    }
   ],
   "source": [
    "dataset['DESCR']"
   ]
  },
  {
   "cell_type": "code",
   "execution_count": 131,
   "metadata": {},
   "outputs": [],
   "source": [
    "X_rm = x[:,5]"
   ]
  },
  {
   "cell_type": "code",
   "execution_count": 132,
   "metadata": {},
   "outputs": [
    {
     "data": {
      "text/plain": [
       "<matplotlib.collections.PathCollection at 0x1a1fb84390>"
      ]
     },
     "execution_count": 132,
     "metadata": {},
     "output_type": "execute_result"
    },
    {
     "data": {
      "image/png": "[encoded data removed]",
      "text/plain": [
       "<Figure size 432x288 with 1 Axes>"
      ]
     },
     "metadata": {
      "needs_background": "light"
     },
     "output_type": "display_data"
    }
   ],
   "source": [
    "# plot the RM with respect to y\n",
    "plt.scatter(X_rm,y)"
   ]
  },
  {
   "cell_type": "markdown",
   "metadata": {},
   "source": [
    "## Gradient descent\n",
    "\n",
    "## Assume that the target funciton is a linear function"
   ]
  },
  {
   "cell_type": "markdown",
   "metadata": {},
   "source": [
    "$$y=k*rm + b$$"
   ]
  },
  {
   "cell_type": "markdown",
   "metadata": {},
   "source": [
    "y = k*rm + b"
   ]
  },
  {
   "cell_type": "code",
   "execution_count": 134,
   "metadata": {},
   "outputs": [],
   "source": [
    "#define target function\n",
    "def price(rm, k, b):\n",
    "    return k * rm + b"
   ]
  },
  {
   "cell_type": "markdown",
   "metadata": {},
   "source": [
    "## Define mean square loss "
   ]
  },
  {
   "cell_type": "markdown",
   "metadata": {},
   "source": [
    "$$loss =\\frac{1}{n}\\sum{(y_i-\\hat{y_i})}^2$$"
   ]
  },
  {
   "cell_type": "markdown",
   "metadata": {},
   "source": [
    "$$loss =\\frac{1}{n}\\sum{(y_i-(kx_i + b_i))}^2$$"
   ]
  },
  {
   "cell_type": "code",
   "execution_count": 135,
   "metadata": {},
   "outputs": [],
   "source": [
    "# define loss function\n",
    "def loss(y,y_hat):\n",
    "    return sum((y_i - y_hat_i)**2 for y_i, y_hat_i in zip(list(y),list(y_hat)))/len(list(y))"
   ]
  },
  {
   "cell_type": "markdown",
   "metadata": {},
   "source": [
    "## Define partial derivatives "
   ]
  },
  {
   "cell_type": "markdown",
   "metadata": {},
   "source": [
    "$$ \\frac{\\partial{loss}}{\\partial{k}} = -\\frac{2}{n}\\sum(y_i-\\hat{y_i})x_i$$"
   ]
  },
  {
   "cell_type": "markdown",
   "metadata": {},
   "source": [
    "$$ \\frac{\\partial{loss}}{\\partial{b}} = -\\frac{2}{n}\\sum(y_i-\\hat{y_i})$$"
   ]
  },
  {
   "cell_type": "code",
   "execution_count": 136,
   "metadata": {},
   "outputs": [],
   "source": [
    "# define partial derivative\n",
    "def partial_derivative_k(x, y, y_hat):\n",
    "    n = len(y)\n",
    "    gradient = 0\n",
    "    for x_i, y_i, y_hat_i in zip(list(x),list(y),list(y_hat)):\n",
    "        gradient += (y_i-y_hat_i) * x_i\n",
    "    return -2/n * gradient\n",
    "\n",
    "def partial_derivative_b(y, y_hat):\n",
    "    n = len(y)\n",
    "    gradient = 0\n",
    "    for y_i, y_hat_i in zip(list(y),list(y_hat)):\n",
    "        gradient += (y_i-y_hat_i)\n",
    "    return -2 / n * gradient"
   ]
  },
  {
   "cell_type": "code",
   "execution_count": 137,
   "metadata": {},
   "outputs": [
    {
     "name": "stdout",
     "output_type": "stream",
     "text": [
      "Iteration 0, the loss is 119501.91788980833, parameters k is 66.3654578094852 and b is -51.267550401514605\n",
      "Iteration 1, the loss is 100725.15707279436, parameters k is 61.9942237909572 and b is -51.954114964627024\n",
      "Iteration 2, the loss is 84899.96493555218, parameters k is 57.98122477908274 and b is -52.58436318335721\n",
      "Iteration 3, the loss is 71562.37658404188, parameters k is 54.297101766665406 and b is -53.16291044247707\n",
      "Iteration 4, the loss is 60321.35899410611, parameters k is 50.914901852257856 and b is -53.69399387473654\n",
      "Iteration 5, the loss is 50847.34665778126, parameters k is 47.80988104872282 and b is -54.18150336035753\n",
      "Iteration 6, the loss is 42862.579341712175, parameters k is 44.95932325254004 and b is -54.629009985976595\n",
      "Iteration 7, the loss is 36132.958678900555, parameters k is 42.34237404941159 and b is -55.039792171246376\n",
      "Iteration 8, the loss is 30461.184844351792, parameters k is 39.93988814026268 and b is -55.41685965424175\n",
      "Iteration 9, the loss is 25680.972094846034, parameters k is 37.73428927138381 and b is -55.7629755111516\n",
      "Iteration 10, the loss is 21652.173583324773, parameters k is 35.70944164394237 and b is -56.080676371355516\n",
      "Iteration 11, the loss is 18256.67251660974, parameters k is 33.85053186207658 and b is -56.37229097578189\n",
      "Iteration 12, the loss is 15394.91919291597, parameters k is 32.14396055588634 and b is -56.63995721432321\n",
      "Iteration 13, the loss is 12983.012391606035, parameters k is 30.577242886418762 and b is -56.88563776695675\n",
      "Iteration 14, the loss is 10950.239547014258, parameters k is 29.138917204728028 and b is -57.1111344630034\n",
      "Iteration 15, the loss is 9237.003588859294, parameters k is 27.81846119674559 and b is -57.31810146357923\n",
      "Iteration 16, the loss is 7793.075668100262, parameters k is 26.60621490046422 and b is -57.50805736368441\n",
      "Iteration 17, the loss is 6576.122541440661, parameters k is 25.493310032218023 and b is -57.68239630247027\n",
      "Iteration 18, the loss is 5550.465440160574, parameters k is 24.471605104999117 and b is -57.842398162968905\n",
      "Iteration 19, the loss is 4686.034035642571, parameters k is 23.5336258641268 and b is -57.98923793590789\n",
      "Iteration 20, the loss is 3957.484833825448, parameters k is 22.672510604487755 and b is -58.123994316117376\n",
      "Iteration 21, the loss is 3343.4581515677596, parameters k is 21.881959969280064 and b is -58.247657594422044\n",
      "Iteration 22, the loss is 2825.9518908635114, parameters k is 21.156190862981184 and b is -58.361136902756165\n",
      "Iteration 23, the loss is 2389.7937511466703, parameters k is 20.489894141360278 and b is -58.46526686550817\n",
      "Iteration 24, the loss is 2022.196405940685, parameters k is 19.87819576898875 and b is -58.560813705756914\n",
      "Iteration 25, the loss is 1712.3826024678947, parameters k is 19.316621160071545 and b is -58.64848085107377\n",
      "Iteration 26, the loss is 1451.2691928438776, parameters k is 18.801062441711423 and b is -58.72891407990347\n",
      "Iteration 27, the loss is 1231.2008332446817, parameters k is 18.32774840009938 and b is -58.8027062461753\n",
      "Iteration 28, the loss is 1045.7255436069556, parameters k is 17.893216889753077 and b is -58.870401616710716\n",
      "Iteration 29, the loss is 889.4055476929152, parameters k is 17.49428950394514 and b is -58.932499853160444\n",
      "Iteration 30, the loss is 757.6578477062487, parameters k is 17.128048321006435 and b is -58.98945966760346\n",
      "Iteration 31, the loss is 646.6198594061678, parameters k is 16.791814556376803 and b is -59.041702178552875\n",
      "Iteration 32, the loss is 553.0361683935632, parameters k is 16.48312896421847 and b is -59.089613991921624\n",
      "Iteration 33, the loss is 474.16308747631945, parameters k is 16.199733845207444 and b is -59.13355002948892\n",
      "Iteration 34, the loss is 407.6882169150246, parameters k is 15.9395565288692 and b is -59.1738361255608\n",
      "Iteration 35, the loss is 351.66264920659205, parameters k is 15.700694209612964 and b is -59.21077141082239\n",
      "Iteration 36, the loss is 304.443830777413, parameters k is 15.481400025522777 and b is -59.24463050082258\n",
      "Iteration 37, the loss is 264.6474053982127, parameters k is 15.2800702780557 and b is -59.27566550510221\n",
      "Iteration 38, the loss is 231.10662746000546, parameters k is 15.095232699144553 and b is -59.304107871665025\n",
      "Iteration 39, the loss is 202.83815518464277, parameters k is 14.925535679865597 and b is -59.33017008028572\n",
      "Iteration 40, the loss is 179.01322089114484, parameters k is 14.769738381866452 and b is -59.354047197043585\n",
      "Iteration 41, the loss is 158.93333308418303, parameters k is 14.626701659208013 and b is -59.37591830145501\n",
      "Iteration 42, the loss is 142.00979799559832, parameters k is 14.495379724203199 and b is -59.39594779664586\n",
      "Iteration 43, the loss is 127.74646018901277, parameters k is 14.374812496278564 and b is -59.41428661214925\n",
      "Iteration 44, the loss is 115.72515621449513, parameters k is 14.264118577881915 and b is -59.43107330812842\n",
      "Iteration 45, the loss is 105.59345484175356, parameters k is 14.162488806046625 and b is -59.44643508910358\n",
      "Iteration 46, the loss is 97.05432443852675, parameters k is 14.06918033243492 and b is -59.46048873459908\n",
      "Iteration 47, the loss is 89.85742456111792, parameters k is 13.983511188548869 and b is -59.47334145351981\n",
      "Iteration 48, the loss is 83.79176644286612, parameters k is 13.90485529634734 and b is -59.48509166850749\n",
      "Iteration 49, the loss is 78.67952719986212, parameters k is 13.832637887765866 and b is -59.49582973601541\n",
      "Iteration 50, the loss is 74.3708363980437, parameters k is 13.76633129962792 and b is -59.50563860736963\n",
      "Iteration 51, the loss is 70.73938213360925, parameters k is 13.705451113182578 and b is -59.51459443565331\n",
      "Iteration 52, the loss is 67.67870780528351, parameters k is 13.64955261002483 and b is -59.52276713285393\n",
      "Iteration 53, the loss is 65.09909100675263, parameters k is 13.598227518469539 and b is -59.530220881349855\n",
      "Iteration 54, the loss is 62.92491303426083, parameters k is 13.551101026575008 and b is -59.53701460347815\n",
      "Iteration 55, the loss is 61.09244188827024, parameters k is 13.507829039963037 and b is -59.54320239261915\n",
      "Iteration 56, the loss is 59.547963770958695, parameters k is 13.468095664373223 and b is -59.548833908951735\n",
      "Iteration 57, the loss is 58.24620829857266, parameters k is 13.431610894533538 and b is -59.553954742774536\n",
      "Iteration 58, the loss is 57.149021258818514, parameters k is 13.398108492438586 and b is -59.558606748051396\n",
      "Iteration 59, the loss is 56.22424600103303, parameters k is 13.36734403951273 and b is -59.562828348621174\n",
      "Iteration 60, the loss is 55.44478066359467, parameters k is 13.33909314840741 and b is -59.56665481931228\n",
      "Iteration 61, the loss is 54.78778359825264, parameters k is 13.313149821349896 and b is -59.57011854401857\n",
      "Iteration 62, the loss is 54.234003695910246, parameters k is 13.28932494303293 and b is -59.573249252624755\n",
      "Iteration 63, the loss is 53.767215980270116, parameters k is 13.26744489701898 and b is -59.576074238514636\n",
      "Iteration 64, the loss is 53.37374592200914, parameters k is 13.247350295536542 and b is -59.57861855825359\n",
      "Iteration 65, the loss is 53.04206852726692, parameters k is 13.228894813375481 and b is -59.58090521490611\n",
      "Iteration 66, the loss is 52.76247044647652, parameters k is 13.211944117350015 and b is -59.582955326329675\n",
      "Iteration 67, the loss is 52.52676519720167, parameters k is 13.196374883497125 and b is -59.58478827967613\n",
      "Iteration 68, the loss is 52.32805315185149, parameters k is 13.182073894820094 and b is -59.58642187323098\n",
      "Iteration 69, the loss is 52.16051925356013, parameters k is 13.168937212976104 and b is -59.587872446628296\n",
      "Iteration 70, the loss is 52.01926252964377, parameters k is 13.156869417847842 and b is -59.58915500039391\n",
      "Iteration 71, the loss is 51.900152404288335, parameters k is 13.14578290943573 and b is -59.59028330569151\n",
      "Iteration 72, the loss is 51.799707597826014, parameters k is 13.135597266963284 and b is -59.591270005074506\n",
      "Iteration 73, the loss is 51.71499406215539, parameters k is 13.126238660506738 and b is -59.592126704980856\n",
      "Iteration 74, the loss is 51.64353895996296, parameters k is 13.117639310844341 and b is -59.592864060647486\n",
      "Iteration 75, the loss is 51.58325816577819, parameters k is 13.109736993573478 and b is -59.59349185406559\n",
      "Iteration 76, the loss is 51.53239516333031, parameters k is 13.102474583867675 and b is -59.59401906554714\n",
      "Iteration 77, the loss is 51.48946954779067, parameters k is 13.095799638542875 and b is -59.594453939426174\n",
      "Iteration 78, the loss is 51.4532336230845, parameters k is 13.08966401237529 and b is -59.594804044375614\n",
      "Iteration 79, the loss is 51.42263582178557, parameters k is 13.084023505863778 and b is -59.59507632878075\n",
      "Iteration 80, the loss is 51.396789875135134, parameters k is 13.078837541859718 and b is -59.59527717157471\n",
      "Iteration 81, the loss is 51.374948829306476, parameters k is 13.07406886869855 and b is -59.59541242890766\n",
      "Iteration 82, the loss is 51.356483146121896, parameters k is 13.069683287661048 and b is -59.59548747699128\n",
      "Iteration 83, the loss is 51.3408622461765, parameters k is 13.065649402770408 and b is -59.59550725143194\n",
      "Iteration 84, the loss is 51.32763895324629, parameters k is 13.061938391094598 and b is -59.59547628334032\n",
      "Iteration 85, the loss is 51.31643638392147, parameters k is 13.05852379187351 and b is -59.595398732481705\n",
      "Iteration 86, the loss is 51.30693689809321, parameters k is 13.05538131292809 and b is -59.59527841770944\n",
      "Iteration 87, the loss is 51.29887278634177, parameters k is 13.052488652935146 and b is -59.595118844904235\n",
      "Iteration 88, the loss is 51.292018421199835, parameters k is 13.049825338267548 and b is -59.594923232623714\n",
      "Iteration 89, the loss is 51.28618364217888, parameters k is 13.047372573206122 and b is -59.594694535649865\n",
      "Iteration 90, the loss is 51.28120818062059, parameters k is 13.045113102427377 and b is -59.59443546660667\n",
      "Iteration 91, the loss is 51.27695696092133, parameters k is 13.043031084760983 and b is -59.59414851580605\n",
      "Iteration 92, the loss is 51.273316140369104, parameters k is 13.041111977293415 and b is -59.593835969467385\n",
      "Iteration 93, the loss is 51.27018977148886, parameters k is 13.039342428969832 and b is -59.59349992644383\n",
      "Iteration 94, the loss is 51.267496989043046, parameters k is 13.037710182915776 and b is -59.59314231357784\n",
      "Iteration 95, the loss is 51.26516963921482, parameters k is 13.036203986764052 and b is -59.592764899798226\n",
      "Iteration 96, the loss is 51.26315028146607, parameters k is 13.034813510330734 and b is -59.59236930906191\n",
      "Iteration 97, the loss is 51.26139050448872, parameters k is 13.033529270038004 and b is -59.591957032235044\n",
      "Iteration 98, the loss is 51.259849506876236, parameters k is 13.032342559530885 and b is -59.59152943800043\n",
      "Iteration 99, the loss is 51.258492900903164, parameters k is 13.031245385980254 and b is -59.59108778287096\n",
      "Iteration 100, the loss is 51.25729170434134, parameters k is 13.030230411606109 and b is -59.59063322038249\n",
      "Iteration 101, the loss is 51.256221490755806, parameters k is 13.029290899993287 and b is -59.5901668095333\n",
      "Iteration 102, the loss is 51.25526167336735, parameters k is 13.02842066680684 and b is -59.58968952253183\n",
      "Iteration 103, the loss is 51.254394901486904, parameters k is 13.027614034546527 and b is -59.58920225190954\n",
      "Iteration 104, the loss is 51.25360655182608, parameters k is 13.026865791009376 and b is -59.588705817050815\n",
      "Iteration 105, the loss is 51.25288429976977, parameters k is 13.02617115115643 and b is -59.58820097018768\n",
      "Iteration 106, the loss is 51.25221775804159, parameters k is 13.025525722104687 and b is -59.58768840190326\n",
      "Iteration 107, the loss is 51.2515981721684, parameters k is 13.024925470988125 and b is -59.587168746184176\n",
      "Iteration 108, the loss is 51.25101816381597, parameters k is 13.02436669545264 and b is -59.58664258505892\n",
      "Iteration 109, the loss is 51.25047151446955, parameters k is 13.023845996569086 and b is -59.58611045285602\n",
      "Iteration 110, the loss is 51.24995298311923, parameters k is 13.023360253966196 and b is -59.58557284011331\n",
      "Iteration 111, the loss is 51.249458152603175, parameters k is 13.022906603001482 and b is -59.58503019716675\n",
      "Iteration 112, the loss is 51.24898330010466, parameters k is 13.02248241380309 and b is -59.58448293744519\n",
      "Iteration 113, the loss is 51.248525288006434, parameters k is 13.022085272029258 and b is -59.583931440495014\n",
      "Iteration 114, the loss is 51.2480814719012, parameters k is 13.021712961204644 and b is -59.583376054757046\n",
      "Iteration 115, the loss is 51.247649623063246, parameters k is 13.02136344650425 and b is -59.58281710011573\n",
      "Iteration 116, the loss is 51.2472278631058, parameters k is 13.021034859866347 and b is -59.582254870239495\n",
      "Iteration 117, the loss is 51.246814608910555, parameters k is 13.020725486325462 and b is -59.58168963472924\n",
      "Iteration 118, the loss is 51.246408526213706, parameters k is 13.020433751465424 and b is -59.58112164109082\n",
      "Iteration 119, the loss is 51.24600849048756, parameters k is 13.020158209900712 and b is -59.580551116545806\n",
      "Iteration 120, the loss is 51.24561355397217, parameters k is 13.019897534701796 and b is -59.579978269693896\n",
      "Iteration 121, the loss is 51.24522291788807, parameters k is 13.01965050768712 and b is -59.57940329203905\n",
      "Iteration 122, the loss is 51.244835909017965, parameters k is 13.019416010510708 and b is -59.57882635939058\n",
      "Iteration 123, the loss is 51.24445195996922, parameters k is 13.019193016480184 and b is -59.57824763314937\n",
      "Iteration 124, the loss is 51.244070592539074, parameters k is 13.018980583045327 and b is -59.57766726148873\n",
      "Iteration 125, the loss is 51.243691403694626, parameters k is 13.018777844902242 and b is -59.577085380438476\n",
      "Iteration 126, the loss is 51.24331405375645, parameters k is 13.018584007662668 and b is -59.57650211488011\n",
      "Iteration 127, the loss is 51.24293825644038, parameters k is 13.018398342042108 and b is -59.575917579460494\n",
      "Iteration 128, the loss is 51.24256377046358, parameters k is 13.018220178524285 and b is -59.575331879430635\n",
      "Iteration 129, the loss is 51.24219039247121, parameters k is 13.018048902462857 and b is -59.574745111415695\n",
      "Iteration 130, the loss is 51.24181795107407, parameters k is 13.017883949584574 and b is -59.57415736412193\n",
      "Iteration 131, the loss is 51.24144630182397, parameters k is 13.01772480186097 and b is -59.57356871898569\n",
      "Iteration 132, the loss is 51.2410753229788, parameters k is 13.017570983718393 and b is -59.572979250769215\n",
      "Iteration 133, the loss is 51.24070491193328, parameters k is 13.017422058558635 and b is -59.572389028107594\n",
      "Iteration 134, the loss is 51.2403349822107, parameters k is 13.017277625564715 and b is -59.57179811401094\n",
      "Iteration 135, the loss is 51.23996546092781, parameters k is 13.017137316768444 and b is -59.57120656632535\n",
      "Iteration 136, the loss is 51.23959628665797, parameters k is 13.017000794358317 and b is -59.57061443815616\n",
      "Iteration 137, the loss is 51.23922740763019, parameters k is 13.016867748208028 and b is -59.57002177825645\n",
      "Iteration 138, the loss is 51.23885878021127, parameters k is 13.01673789360755 and b is -59.56942863138371\n",
      "Iteration 139, the loss is 51.23849036762679, parameters k is 13.016610969180144 and b is -59.56883503862734\n",
      "Iteration 140, the loss is 51.23812213888289, parameters k is 13.016486734970094 and b is -59.56824103770924\n",
      "Iteration 141, the loss is 51.237754067857516, parameters k is 13.016364970687157 and b is -59.56764666325981\n",
      "Iteration 142, the loss is 51.23738613253468, parameters k is 13.01624547409488 and b is -59.56705194707127\n",
      "Iteration 143, the loss is 51.23701831435911, parameters k is 13.01612805953102 and b is -59.566456918330324\n",
      "Iteration 144, the loss is 51.23665059769197, parameters k is 13.0160125565492 and b is -59.56586160383165\n",
      "Iteration 145, the loss is 51.236282969352786, parameters k is 13.015898808671905 and b is -59.56526602817395\n",
      "Iteration 146, the loss is 51.235915418232715, parameters k is 13.015786672245667 and b is -59.56467021393993\n",
      "Iteration 147, the loss is 51.23554793496899, parameters k is 13.01567601539008 and b is -59.564074181861486\n",
      "Iteration 148, the loss is 51.23518051167064, parameters k is 13.015566717032934 and b is -59.56347795097144\n",
      "Iteration 149, the loss is 51.2348131416867, parameters k is 13.015458666024443 and b is -59.56288153874275\n"
     ]
    },
    {
     "name": "stdout",
     "output_type": "stream",
     "text": [
      "Iteration 150, the loss is 51.234445819411796, parameters k is 13.015351760324053 and b is -59.56228496121635\n",
      "Iteration 151, the loss is 51.23407854012144, parameters k is 13.015245906253897 and b is -59.56168823311852\n",
      "Iteration 152, the loss is 51.233711299833615, parameters k is 13.015141017813438 and b is -59.56109136796862\n",
      "Iteration 153, the loss is 51.233344095192074, parameters k is 13.015037016050272 and b is -59.56049437817803\n",
      "Iteration 154, the loss is 51.23297692336835, parameters k is 13.014933828482503 and b is -59.559897275140905\n",
      "Iteration 155, the loss is 51.23260978197797, parameters k is 13.01483138856846 and b is -59.55930006931758\n",
      "Iteration 156, the loss is 51.23224266901162, parameters k is 13.014729635219858 and b is -59.558702770311086\n",
      "Iteration 157, the loss is 51.23187558277534, parameters k is 13.014628512354877 and b is -59.55810538693742\n",
      "Iteration 158, the loss is 51.231508521841434, parameters k is 13.014527968487855 and b is -59.55750792729003\n",
      "Iteration 159, the loss is 51.231141485006496, parameters k is 13.014427956352613 and b is -59.556910398799054\n",
      "Iteration 160, the loss is 51.23077447125629, parameters k is 13.014328432556647 and b is -59.55631280828565\n",
      "Iteration 161, the loss is 51.23040747973564, parameters k is 13.014229357263666 and b is -59.55571516201192\n",
      "Iteration 162, the loss is 51.23004050972386, parameters k is 13.014130693902139 and b is -59.55511746572676\n",
      "Iteration 163, the loss is 51.22967356061328, parameters k is 13.014032408897739 and b is -59.55451972470786\n",
      "Iteration 164, the loss is 51.22930663189167, parameters k is 13.013934471427703 and b is -59.55392194380036\n",
      "Iteration 165, the loss is 51.22893972312723, parameters k is 13.01383685319533 and b is -59.55332412745229\n",
      "Iteration 166, the loss is 51.22857283395584, parameters k is 13.013739528222963 and b is -59.55272627974712\n",
      "Iteration 167, the loss is 51.22820596407054, parameters k is 13.013642472661926 and b is -59.552128404433624\n",
      "Iteration 168, the loss is 51.22783911321234, parameters k is 13.01354566461805 and b is -59.55153050495332\n",
      "Iteration 169, the loss is 51.22747228116307, parameters k is 13.013449083991485 and b is -59.550932584465656\n",
      "Iteration 170, the loss is 51.22710546773861, parameters k is 13.013352712329658 and b is -59.55033464587111\n",
      "Iteration 171, the loss is 51.22673867278352, parameters k is 13.013256532692258 and b is -59.549736691832436\n",
      "Iteration 172, the loss is 51.226371896166796, parameters k is 13.013160529527312 and b is -59.549138724794126\n",
      "Iteration 173, the loss is 51.226005137777975, parameters k is 13.013064688557392 and b is -59.54854074700031\n",
      "Iteration 174, the loss is 51.22563839752362, parameters k is 13.012968996675173 and b is -59.54794276051117\n",
      "Iteration 175, the loss is 51.2252716753249, parameters k is 13.012873441847528 and b is -59.54734476721802\n",
      "Iteration 176, the loss is 51.22490497111543, parameters k is 13.012778013027495 and b is -59.54674676885715\n",
      "Iteration 177, the loss is 51.22453828483896, parameters k is 13.012682700073457 and b is -59.54614876702251\n",
      "Iteration 178, the loss is 51.224171616447904, parameters k is 13.012587493674948 and b is -59.5455507631774\n",
      "Iteration 179, the loss is 51.2238049659022, parameters k is 13.01249238528453 and b is -59.544952758665175\n",
      "Iteration 180, the loss is 51.223438333167685, parameters k is 13.01239736705526 and b is -59.54435475471905\n",
      "Iteration 181, the loss is 51.223071718215735, parameters k is 13.012302431783292 and b is -59.543756752471154\n",
      "Iteration 182, the loss is 51.222705121021846, parameters k is 13.012207572855154 and b is -59.54315875296081\n",
      "Iteration 183, the loss is 51.22233854156545, parameters k is 13.01211278419938 and b is -59.54256075714211\n",
      "Iteration 184, the loss is 51.221971979828886, parameters k is 13.012018060242083 and b is -59.541962765890965\n",
      "Iteration 185, the loss is 51.22160543579726, parameters k is 13.011923395866177 and b is -59.54136478001144\n",
      "Iteration 186, the loss is 51.22123890945789, parameters k is 13.01182878637394 and b is -59.54076680024169\n",
      "Iteration 187, the loss is 51.220872400799735, parameters k is 13.011734227452644 and b is -59.54016882725934\n",
      "Iteration 188, the loss is 51.22050590981366, parameters k is 13.011639715143009 and b is -59.539570861686464\n",
      "Iteration 189, the loss is 51.22013943649169, parameters k is 13.011545245810227 and b is -59.53897290409411\n",
      "Iteration 190, the loss is 51.219772980827, parameters k is 13.011450816117378 and b is -59.5383749550065\n",
      "Iteration 191, the loss is 51.219406542813616, parameters k is 13.011356423001011 and b is -59.53777701490488\n",
      "Iteration 192, the loss is 51.21904012244646, parameters k is 13.011262063648736 and b is -59.53717908423102\n",
      "Iteration 193, the loss is 51.21867371972116, parameters k is 13.011167735478647 and b is -59.536581163390444\n",
      "Iteration 194, the loss is 51.21830733463374, parameters k is 13.011073436120432 and b is -59.53598325275542\n",
      "Iteration 195, the loss is 51.21794096718093, parameters k is 13.010979163398032 and b is -59.535385352667696\n",
      "Iteration 196, the loss is 51.217574617359546, parameters k is 13.010884915313722 and b is -59.534787463440956\n",
      "Iteration 197, the loss is 51.21720828516716, parameters k is 13.010790690033497 and b is -59.534189585363166\n",
      "Iteration 198, the loss is 51.21684197060124, parameters k is 13.01069648587365 and b is -59.53359171869866\n",
      "Iteration 199, the loss is 51.21647567365972, parameters k is 13.01060230128846 and b is -59.53299386369008\n"
     ]
    }
   ],
   "source": [
    "#initialized parameters\n",
    "\n",
    "k = random.random() * 200 - 100  # -100 100\n",
    "b = random.random() * 200 - 100  # -100 100\n",
    "\n",
    "learning_rate = 1e-3\n",
    "\n",
    "iteration_num = 200 \n",
    "losses = []\n",
    "for i in range(iteration_num):\n",
    "    \n",
    "    price_use_current_parameters = [price(r, k, b) for r in X_rm]  # \\hat{y}\n",
    "    \n",
    "    current_loss = loss(y, price_use_current_parameters)\n",
    "    losses.append(current_loss)\n",
    "    print(\"Iteration {}, the loss is {}, parameters k is {} and b is {}\".format(i,current_loss,k,b))\n",
    "    \n",
    "    k_gradient = partial_derivative_k(X_rm, y, price_use_current_parameters)\n",
    "    b_gradient = partial_derivative_b(y, price_use_current_parameters)\n",
    "    \n",
    "    k = k + (-1 * k_gradient) * learning_rate\n",
    "    b = b + (-1 * b_gradient) * learning_rate\n",
    "best_k = k\n",
    "best_b = b"
   ]
  },
  {
   "cell_type": "code",
   "execution_count": 138,
   "metadata": {},
   "outputs": [
    {
     "data": {
      "text/plain": [
       "[<matplotlib.lines.Line2D at 0x1a1fae1ba8>]"
      ]
     },
     "execution_count": 138,
     "metadata": {},
     "output_type": "execute_result"
    },
    {
     "data": {
      "image/png": "[encoded data removed]",
      "text/plain": [
       "<Figure size 432x288 with 1 Axes>"
      ]
     },
     "metadata": {
      "needs_background": "light"
     },
     "output_type": "display_data"
    }
   ],
   "source": [
    "plt.plot(list(range(iteration_num)),losses)"
   ]
  },
  {
   "cell_type": "code",
   "execution_count": 139,
   "metadata": {},
   "outputs": [
    {
     "data": {
      "text/plain": [
       "<matplotlib.collections.PathCollection at 0x1a1fd5c588>"
      ]
     },
     "execution_count": 139,
     "metadata": {},
     "output_type": "execute_result"
    },
    {
     "data": {
      "image/png": "[encoded data removed]",
      "text/plain": [
       "<Figure size 432x288 with 1 Axes>"
      ]
     },
     "metadata": {
      "needs_background": "light"
     },
     "output_type": "display_data"
    }
   ],
   "source": [
    "price_use_best_parameters = [price(r, best_k, best_b) for r in X_rm]\n",
    "\n",
    "plt.scatter(X_rm,y)\n",
    "plt.scatter(X_rm,price_use_current_parameters)"
   ]
  },
  {
   "cell_type": "code",
   "execution_count": null,
   "metadata": {},
   "outputs": [],
   "source": []
  },
  {
   "cell_type": "code",
   "execution_count": null,
   "metadata": {},
   "outputs": [],
   "source": []
  },
  {
   "cell_type": "code",
   "execution_count": null,
   "metadata": {},
   "outputs": [],
   "source": []
  }
 ],
 "metadata": {
  "kernelspec": {
   "display_name": "Python 3",
   "language": "python",
   "name": "python3"
  },
  "language_info": {
   "codemirror_mode": {
    "name": "ipython",
    "version": 3
   },
   "file_extension": ".py",
   "mimetype": "text/x-python",
   "name": "python",
   "nbconvert_exporter": "python",
   "pygments_lexer": "ipython3",
   "version": "3.7.1"
  }
 },
 "nbformat": 4,
 "nbformat_minor": 2
}
