{
 "cells": [
  {
   "cell_type": "markdown",
   "metadata": {},
   "source": [
    "# 1.商业真正在用的，都是Domain Specific \n",
    "\n",
    "# 2.AI 已经解决了很多～重复大量～的劳动\n",
    "\n",
    "# 3.一个真正的AI程序：\n",
    "1.结合了很多方法，有一些简单，有一些复杂\n",
    "2.简单的方法主导+部分复杂的方法\n",
    "\n",
    "# 罗姆剃刀原理\n",
    "\n",
    "# pattern Based AI"
   ]
  },
  {
   "cell_type": "code",
   "execution_count": 16,
   "metadata": {},
   "outputs": [],
   "source": [
    "\n",
    "hello_rules = '''\n",
    "say_hello = name hello\n",
    "names = name names | name\n",
    "name = Jhon | Mike | 老梁 |老刘\n",
    "hello = 你好 | 您来啦 |快请进\n",
    "tail = 呀 | ！\n",
    "'''\n",
    "\n"
   ]
  },
  {
   "cell_type": "code",
   "execution_count": null,
   "metadata": {},
   "outputs": [],
   "source": [
    "'add = number + number'"
   ]
  },
  {
   "cell_type": "code",
   "execution_count": 33,
   "metadata": {},
   "outputs": [
    {
     "name": "stdout",
     "output_type": "stream",
     "text": [
      "say_hello = name hello\n",
      "names = name names | name\n",
      "name = Jhon | Mike | 老梁 |老刘\n",
      "hello = 你好 | 您来啦 |快请进\n",
      "tail = 呀 | ！\n"
     ]
    }
   ],
   "source": [
    "\n",
    "for line in hello_rules.split('\\n'):\n",
    "    if not line: continue\n",
    "    # skip the empty line\n",
    "    \n",
    "    print(line)\n",
    "    "
   ]
  },
  {
   "cell_type": "code",
   "execution_count": 17,
   "metadata": {},
   "outputs": [],
   "source": [
    "def get_generation_by_gram(grammar_str:str, target, stmt_split='=', or_split='|'):\n",
    "   \n",
    "\n",
    "    rules = dict() # key is the @statement, value is @expression\n",
    "    for line in grammar_str.split('\\n'):\n",
    "        if not line: continue\n",
    "        # skip the empty line\n",
    "        prin(line)\n",
    "        stmt, expr = line.split(stmt_split)\n",
    "\n",
    "        rules[stmt.strip()] = expr.split(or_split)\n",
    "        \n",
    "        \n",
    "    generated  = generate(rules, target=target)\n",
    "    \n",
    "    return generated\n"
   ]
  },
  {
   "cell_type": "code",
   "execution_count": 52,
   "metadata": {},
   "outputs": [],
   "source": [
    "def generate(grammar_rule, target):\n",
    "    if target in grammar_rule: #names \n",
    "        candidates = grammar_rule[target] #['name names', 'name']\n",
    "        candidate = random.choice(candidates) #'name names','name'\n",
    "        return ''.join(generate(grammar_rule, target=c.strip()) for c in candidate)\n",
    "    else:\n",
    "        return target"
   ]
  },
  {
   "cell_type": "code",
   "execution_count": 56,
   "metadata": {},
   "outputs": [],
   "source": [
    "simple_grammar = '''\n",
    "sentence => noun_phrase verb_phrase \n",
    "noun_phrase => Article Adj* noun\n",
    "Adj* => Adj | Adj Adj*\n",
    "verb_phrase => verb noun_phrase\n",
    "Article => 一个 | 这个\n",
    "noun => 女人 | 篮球 | 桌子 | 小猫\n",
    "verb => 看着 | 坐着 | 听着 | 看见\n",
    "Adj => 蓝色的 |  好看的 | 小小的 \n",
    "'''"
   ]
  },
  {
   "cell_type": "code",
   "execution_count": 58,
   "metadata": {},
   "outputs": [
    {
     "name": "stdout",
     "output_type": "stream",
     "text": [
      "{'Adj': [' 蓝色的 ', '  好看的 ', ' 小小的 ']}\n"
     ]
    },
    {
     "data": {
      "text/plain": [
       "'sentence'"
      ]
     },
     "execution_count": 58,
     "metadata": {},
     "output_type": "execute_result"
    }
   ],
   "source": [
    "get_generation_by_gram(simple_grammar, target='sentence', stmt_split='=>')"
   ]
  },
  {
   "cell_type": "code",
   "execution_count": 42,
   "metadata": {},
   "outputs": [],
   "source": [
    "simpel_programming = '''\n",
    "if_stmt => if (cond) {stmt}\n",
    "cond = var op var\n",
    "op => | == | >= | <=\n",
    "stmt => assign | if_stmt\n",
    "assign => var = var\n",
    "var => var char | char\n",
    "char => a | b | c | d \n",
    "'''"
   ]
  },
  {
   "cell_type": "code",
   "execution_count": 59,
   "metadata": {},
   "outputs": [
    {
     "name": "stdout",
     "output_type": "stream",
     "text": [
      "{'char': [' a ', ' b ', ' c ', ' d ']}\n",
      "if\n",
      "{'char': [' a ', ' b ', ' c ', ' d ']}\n",
      "if\n",
      "{'char': [' a ', ' b ', ' c ', ' d ']}\n",
      "if\n",
      "{'char': [' a ', ' b ', ' c ', ' d ']}\n",
      "if\n",
      "{'char': [' a ', ' b ', ' c ', ' d ']}\n",
      "if\n",
      "{'char': [' a ', ' b ', ' c ', ' d ']}\n",
      "if\n",
      "{'char': [' a ', ' b ', ' c ', ' d ']}\n",
      "if\n",
      "{'char': [' a ', ' b ', ' c ', ' d ']}\n",
      "if\n",
      "{'char': [' a ', ' b ', ' c ', ' d ']}\n",
      "if\n",
      "{'char': [' a ', ' b ', ' c ', ' d ']}\n",
      "if\n",
      "{'char': [' a ', ' b ', ' c ', ' d ']}\n",
      "if\n",
      "{'char': [' a ', ' b ', ' c ', ' d ']}\n",
      "if\n",
      "{'char': [' a ', ' b ', ' c ', ' d ']}\n",
      "if\n",
      "{'char': [' a ', ' b ', ' c ', ' d ']}\n",
      "if\n",
      "{'char': [' a ', ' b ', ' c ', ' d ']}\n",
      "if\n",
      "{'char': [' a ', ' b ', ' c ', ' d ']}\n",
      "if\n",
      "{'char': [' a ', ' b ', ' c ', ' d ']}\n",
      "if\n",
      "{'char': [' a ', ' b ', ' c ', ' d ']}\n",
      "if\n",
      "{'char': [' a ', ' b ', ' c ', ' d ']}\n",
      "if\n",
      "{'char': [' a ', ' b ', ' c ', ' d ']}\n",
      "if\n"
     ]
    }
   ],
   "source": [
    "for i in range(20):\n",
    " print(get_generation_by_gram(simpel_programming, target= 'if', stmt_split='=>'))"
   ]
  },
  {
   "cell_type": "markdown",
   "metadata": {},
   "source": [
    "\n",
    "\n",
    "# Data Driven\n",
    "\n",
    "# 1990S 第一篇机器学习真正应用的论文，Data Driven\n",
    "\n",
    "# 期望我们的程序，能够根据我们输入的数据，自动进行处理，而不\n",
    "# 是说，数据一变，我们的程序也要随之进行变化。\n",
    "\n",
    "#  智能客服机器人小美\n",
    "# 微软小冰\n",
    "# 建行的机器人， 中行的机器人\n",
    "# 文本的分析匹配\n",
    "\n",
    "# 只要你发现有大量的if- else,大量的规则要做的时候"
   ]
  },
  {
   "cell_type": "code",
   "execution_count": 53,
   "metadata": {},
   "outputs": [
    {
     "data": {
      "text/plain": [
       "{'say_hello': [' name hello'],\n",
       " 'names': [' name names ', ' name'],\n",
       " 'name': [' Jhon ', ' Mike ', ' 老梁 ', '老刘'],\n",
       " 'hello': [' 你好 ', ' 您来啦 ', '快请进'],\n",
       " 'tail': [' 呀 ', ' ！']}"
      ]
     },
     "execution_count": 53,
     "metadata": {},
     "output_type": "execute_result"
    }
   ],
   "source": [
    "rules"
   ]
  },
  {
   "cell_type": "code",
   "execution_count": 56,
   "metadata": {},
   "outputs": [
    {
     "data": {
      "text/plain": [
       "[' Jhon ', ' Mike ', ' 老梁 ', '老刘']"
      ]
     },
     "execution_count": 56,
     "metadata": {},
     "output_type": "execute_result"
    }
   ],
   "source": [
    "rules['name']"
   ]
  },
  {
   "cell_type": "code",
   "execution_count": 57,
   "metadata": {},
   "outputs": [
    {
     "data": {
      "text/plain": [
       "[' name names ', ' name']"
      ]
     },
     "execution_count": 57,
     "metadata": {},
     "output_type": "execute_result"
    }
   ],
   "source": [
    "rules['names']"
   ]
  },
  {
   "cell_type": "code",
   "execution_count": 78,
   "metadata": {},
   "outputs": [],
   "source": [
    "def generate(grammar_rule, target):\n",
    "    if target in grammar_rule: #names \n",
    "        candidates = grammar_rule[target] #['name names', 'name']\n",
    "        candidate = random.choice(candidates) #'name names','name'\n",
    "        return ''.join(generate(grammar_rule, target=c.strip()) for c in candidate)\n",
    "    else:\n",
    "        return target"
   ]
  },
  {
   "cell_type": "code",
   "execution_count": 90,
   "metadata": {},
   "outputs": [
    {
     "data": {
      "text/plain": [
       "'namehello'"
      ]
     },
     "execution_count": 90,
     "metadata": {},
     "output_type": "execute_result"
    }
   ],
   "source": [
    "generate(rules, target='say_hello')"
   ]
  },
  {
   "cell_type": "code",
   "execution_count": 76,
   "metadata": {},
   "outputs": [
    {
     "data": {
      "text/plain": [
       "'老梁'"
      ]
     },
     "execution_count": 76,
     "metadata": {},
     "output_type": "execute_result"
    }
   ],
   "source": [
    "generate(rules, target='老梁')"
   ]
  },
  {
   "cell_type": "markdown",
   "metadata": {},
   "source": [
    "# language model\n",
    "# lnput:Sentence(w1..wn)¶\n",
    "# Output:Pribability(0-1)\n",
    "# 2-Gram\n",
    "\n",
    "         "
   ]
  },
  {
   "cell_type": "markdown",
   "metadata": {},
   "source": [
    "$$ pr(sentence) = pr(w_1 \\cdot w_2 \\cdots w_n) = \\prod \\orac{count(w_i, w_{i+1})}{count(v_i)}$$"
   ]
  },
  {
   "cell_type": "code",
   "execution_count": 71,
   "metadata": {},
   "outputs": [],
   "source": [
    "coupus= \"//Users/krmzzy/jupyters_and_slides/2019-summer/article_9k.txt\""
   ]
  },
  {
   "cell_type": "code",
   "execution_count": 72,
   "metadata": {},
   "outputs": [],
   "source": [
    "FILE = open(coupus).read()"
   ]
  },
  {
   "cell_type": "code",
   "execution_count": 73,
   "metadata": {},
   "outputs": [
    {
     "data": {
      "text/plain": [
       "24012668"
      ]
     },
     "execution_count": 73,
     "metadata": {},
     "output_type": "execute_result"
    }
   ],
   "source": [
    "len(FILE)"
   ]
  },
  {
   "cell_type": "code",
   "execution_count": 74,
   "metadata": {},
   "outputs": [],
   "source": [
    "def generate_by_pro(text_corpus,length=20):\n",
    "    return ''.join(random.sample(text_corpus, length))"
   ]
  },
  {
   "cell_type": "code",
   "execution_count": 75,
   "metadata": {},
   "outputs": [
    {
     "data": {
      "text/plain": [
       "'此外自本周6月12日起除小米手机6等15款机型外其余机型已暂停更新发布含开发版体验版内测稳定版暂不受影响以确保工程师可以集中全部精力进行系统优化工作有人猜测这也是将精力主要用到MIUI9的研发之中MIUI8去年5月发布距今已有一年有余也是时候更新换代了当然关于MIUI9的确切信息我们还是等待官方消息此外自本周6月12日起除小米手机6等15款机型外其余机型已暂停更新发布含开发版体验版内测稳定版暂不受影响以确保工程师可以集中全部精力进行系统优化工作有人猜测这也是将精力主要用到MIUI9的研发之中MIUI8去年5月发布距今已有一年有余也是时候更新换代了当然关于MIUI9的确切信息我们还是等待官方消息\\n骁龙835作为唯一通过Windows10桌面平台认证的ARM处理器高通强调不会因为只考虑性能而去屏蔽掉小核心相反他们正联手微软找到一种适合桌面平台的兼顾性能和功耗的完美方案报道称微软已经拿到了一些新的源码以便Windows10更好地理解biglittle架构资料显示骁龙835作为一款集成了CP\\x01蓝牙WiFi的SoC比传统的Wintel方案可以节省至少30的PCB空间按计划今年Q4华硕惠普联想将首'"
      ]
     },
     "execution_count": 75,
     "metadata": {},
     "output_type": "execute_result"
    }
   ],
   "source": [
    "FILE[:500]"
   ]
  },
  {
   "cell_type": "code",
   "execution_count": 77,
   "metadata": {},
   "outputs": [],
   "source": [
    "import jieba"
   ]
  },
  {
   "cell_type": "code",
   "execution_count": 82,
   "metadata": {},
   "outputs": [],
   "source": [
    "max_length = 1000000\n",
    "\n",
    "sub_file = FILE[:max_length]"
   ]
  },
  {
   "cell_type": "code",
   "execution_count": 83,
   "metadata": {},
   "outputs": [],
   "source": [
    "def cut(string):\n",
    "    return list(jieba.cut(string))"
   ]
  },
  {
   "cell_type": "code",
   "execution_count": 96,
   "metadata": {},
   "outputs": [],
   "source": [
    "TOKENS = cut(sub_file)"
   ]
  },
  {
   "cell_type": "code",
   "execution_count": 97,
   "metadata": {},
   "outputs": [
    {
     "data": {
      "text/plain": [
       "['此外', '自', '本周', '6', '月', '12', '日起', '除', '小米', '手机']"
      ]
     },
     "execution_count": 97,
     "metadata": {},
     "output_type": "execute_result"
    }
   ],
   "source": [
    "TOKENS[:10]"
   ]
  },
  {
   "cell_type": "code",
   "execution_count": 85,
   "metadata": {},
   "outputs": [
    {
     "data": {
      "text/plain": [
       "533785"
      ]
     },
     "execution_count": 85,
     "metadata": {},
     "output_type": "execute_result"
    }
   ],
   "source": [
    "len(TOKENS)"
   ]
  },
  {
   "cell_type": "code",
   "execution_count": 86,
   "metadata": {},
   "outputs": [],
   "source": [
    "from collections import Counter"
   ]
  },
  {
   "cell_type": "code",
   "execution_count": 87,
   "metadata": {},
   "outputs": [],
   "source": [
    "%matplotlib inline"
   ]
  },
  {
   "cell_type": "code",
   "execution_count": 98,
   "metadata": {},
   "outputs": [],
   "source": [
    "words_count = Counter(TOKENS)"
   ]
  },
  {
   "cell_type": "code",
   "execution_count": 99,
   "metadata": {},
   "outputs": [
    {
     "data": {
      "text/plain": [
       "[('的', 28965),\n",
       " ('在', 7573),\n",
       " ('了', 6790),\n",
       " ('是', 4916),\n",
       " ('和', 4202),\n",
       " ('也', 2679),\n",
       " ('有', 2424),\n",
       " ('月', 2129),\n",
       " ('他', 2005),\n",
       " ('将', 1974),\n",
       " ('年', 1832),\n",
       " ('对', 1749),\n",
       " ('都', 1743),\n",
       " ('等', 1681),\n",
       " ('为', 1673),\n",
       " ('我', 1653),\n",
       " ('就', 1642),\n",
       " ('上', 1640),\n",
       " ('不', 1615),\n",
       " ('与', 1564),\n",
       " ('中', 1531),\n",
       " ('被', 1513),\n",
       " ('到', 1498),\n",
       " ('中国', 1487),\n",
       " ('6', 1415),\n",
       " ('日', 1410),\n",
       " ('这', 1326),\n",
       " ('人', 1317),\n",
       " ('一个', 1228),\n",
       " ('但', 1223),\n",
       " ('我们', 1179),\n",
       " ('从', 1172),\n",
       " ('\\n', 1170),\n",
       " ('后', 1163),\n",
       " ('并', 1149),\n",
       " ('还', 1123),\n",
       " ('说', 1069),\n",
       " ('会', 1047),\n",
       " ('而', 1013),\n",
       " ('没有', 985),\n",
       " ('记者', 902),\n",
       " ('让', 888),\n",
       " ('市场', 869),\n",
       " ('进行', 863),\n",
       " ('已经', 854),\n",
       " ('可以', 852),\n",
       " ('自己', 845),\n",
       " ('要', 832),\n",
       " ('他们', 809),\n",
       " ('表示', 807),\n",
       " ('下', 765),\n",
       " ('个', 755),\n",
       " ('公司', 730),\n",
       " ('时', 723),\n",
       " ('以', 712),\n",
       " ('更', 706),\n",
       " ('发展', 682),\n",
       " ('着', 681),\n",
       " ('其', 661),\n",
       " ('你', 661),\n",
       " ('多', 659),\n",
       " ('5', 651),\n",
       " ('这个', 651),\n",
       " ('就是', 647),\n",
       " ('企业', 645),\n",
       " ('能', 641),\n",
       " ('目前', 635),\n",
       " ('以及', 606),\n",
       " ('可能', 605),\n",
       " ('3', 587),\n",
       " ('给', 583),\n",
       " ('她', 573),\n",
       " ('1', 565),\n",
       " ('通过', 563),\n",
       " ('把', 557),\n",
       " ('来', 556),\n",
       " ('很', 555),\n",
       " ('大', 548),\n",
       " ('工作', 545),\n",
       " ('其中', 542),\n",
       " ('里', 538),\n",
       " ('时间', 531),\n",
       " ('北京', 531),\n",
       " ('成为', 530),\n",
       " ('去', 527),\n",
       " ('旅游', 521),\n",
       " ('问题', 513),\n",
       " ('新', 500),\n",
       " ('向', 495),\n",
       " ('又', 494),\n",
       " ('4', 491),\n",
       " ('地', 486),\n",
       " ('已', 476),\n",
       " ('相关', 469),\n",
       " ('现在', 469),\n",
       " ('2', 468),\n",
       " ('比赛', 462),\n",
       " ('或', 460),\n",
       " ('内容', 458),\n",
       " ('做', 456)]"
      ]
     },
     "execution_count": 99,
     "metadata": {},
     "output_type": "execute_result"
    }
   ],
   "source": [
    "words_count.most_common(100)"
   ]
  },
  {
   "cell_type": "code",
   "execution_count": 89,
   "metadata": {},
   "outputs": [],
   "source": [
    "words_with_fre = [f for w, f in words_count.most_common()]"
   ]
  },
  {
   "cell_type": "code",
   "execution_count": 94,
   "metadata": {},
   "outputs": [],
   "source": [
    "import matplotlib.pyplot as plt"
   ]
  },
  {
   "cell_type": "code",
   "execution_count": 95,
   "metadata": {},
   "outputs": [
    {
     "data": {
      "text/plain": [
       "[('的', 28965),\n",
       " ('在', 7573),\n",
       " ('了', 6790),\n",
       " ('是', 4916),\n",
       " ('和', 4202),\n",
       " ('也', 2679),\n",
       " ('有', 2424),\n",
       " ('月', 2129),\n",
       " ('他', 2005),\n",
       " ('将', 1974)]"
      ]
     },
     "execution_count": 95,
     "metadata": {},
     "output_type": "execute_result"
    }
   ],
   "source": [
    "words_count.most_common(10)"
   ]
  },
  {
   "cell_type": "code",
   "execution_count": 93,
   "metadata": {},
   "outputs": [
    {
     "data": {
      "text/plain": [
       "[28965, 7573, 6790, 4916, 4202, 2679, 2424, 2129, 2005, 1974]"
      ]
     },
     "execution_count": 93,
     "metadata": {},
     "output_type": "execute_result"
    }
   ],
   "source": [
    "words_with_fre[:10]"
   ]
  },
  {
   "cell_type": "code",
   "execution_count": 101,
   "metadata": {},
   "outputs": [],
   "source": [
    "import numpy as np"
   ]
  },
  {
   "cell_type": "code",
   "execution_count": 103,
   "metadata": {},
   "outputs": [
    {
     "data": {
      "text/plain": [
       "[<matplotlib.lines.Line2D at 0x125f51208>]"
      ]
     },
     "execution_count": 103,
     "metadata": {},
     "output_type": "execute_result"
    },
    {
     "data": {
      "image/png": "[encoded data removed]",
      "text/plain": [
       "<Figure size 432x288 with 1 Axes>"
      ]
     },
     "metadata": {
      "needs_background": "light"
     },
     "output_type": "display_data"
    }
   ],
   "source": [
    "plt.plot(np.log(np.log(words_with_fre)))"
   ]
  },
  {
   "cell_type": "markdown",
   "metadata": {},
   "source": [
    "# 在大量的文本中，出现次数第二多的单词，它出现的概率是出现最高单词的1/2，出现频率第三高的最高的单词的1/3，1000=>1/1000"
   ]
  },
  {
   "cell_type": "code",
   "execution_count": 66,
   "metadata": {},
   "outputs": [
    {
     "name": "stderr",
     "output_type": "stream",
     "text": [
      "Building prefix dict from the default dictionary ...\n",
      "Dumping model to file cache /var/folders/27/sf630ldj6nq7t0x4cmymz5s00000gn/T/jieba.cache\n",
      "Loading model cost 1.161 seconds.\n",
      "Prefix dict has been built succesfully.\n"
     ]
    },
    {
     "data": {
      "text/plain": [
       "['一加', '手机', '5', '要', '做', '市面', '最', '轻薄']"
      ]
     },
     "execution_count": 66,
     "metadata": {},
     "output_type": "execute_result"
    }
   ],
   "source": [
    "list(jieba.cut('一加手机5要做市面最轻薄'))"
   ]
  },
  {
   "cell_type": "code",
   "execution_count": 104,
   "metadata": {},
   "outputs": [],
   "source": [
    "_2_gram_words = [\n",
    "    TOKENS[i] + TOKENS[i+1] for i in range(len(TOKENS)-1)\n",
    "]"
   ]
  },
  {
   "cell_type": "code",
   "execution_count": 106,
   "metadata": {},
   "outputs": [
    {
     "data": {
      "text/plain": [
       "['此外自', '自本周', '本周6', '6月', '月12', '12日起', '日起除', '除小米', '小米手机', '手机6']"
      ]
     },
     "execution_count": 106,
     "metadata": {},
     "output_type": "execute_result"
    }
   ],
   "source": [
    "_2_gram_words[:10]"
   ]
  },
  {
   "cell_type": "code",
   "execution_count": 107,
   "metadata": {},
   "outputs": [],
   "source": [
    "_2_gram_word_counts = Counter(_2_gram_words)"
   ]
  },
  {
   "cell_type": "markdown",
   "metadata": {},
   "source": [
    "$$ pr(sentence) = pr(w_1 \\cdot w_2 \\cdots w_n) = \\prod \\orac{count(w_i, w_{i+1})}{count(v_i)}$$"
   ]
  },
  {
   "cell_type": "code",
   "execution_count": 117,
   "metadata": {},
   "outputs": [
    {
     "data": {
      "text/plain": [
       "1"
      ]
     },
     "execution_count": 117,
     "metadata": {},
     "output_type": "execute_result"
    }
   ],
   "source": [
    "words_count.most_common()[-1][-1]"
   ]
  },
  {
   "cell_type": "code",
   "execution_count": 118,
   "metadata": {},
   "outputs": [],
   "source": [
    "def get_1_gram_count(word):\n",
    "    if word in words_count: return words_count[word]\n",
    "    else:\n",
    "        return words_count.most_common()[-1][-1]"
   ]
  },
  {
   "cell_type": "code",
   "execution_count": 119,
   "metadata": {},
   "outputs": [],
   "source": [
    "def get_2_gram_count(word):\n",
    "    if word in _2_gram_word_counts: return _2_gram_word_counts[word]\n",
    "    else:\n",
    "        return _2_gram_word_counts.most_common()[-1][-1]"
   ]
  },
  {
   "cell_type": "code",
   "execution_count": 120,
   "metadata": {},
   "outputs": [],
   "source": [
    "def get_gram_count(word, wc):\n",
    "    if word in wc: return wc[word]\n",
    "    else:\n",
    "        return wc.most_common()[-1][-1]"
   ]
  },
  {
   "cell_type": "code",
   "execution_count": 121,
   "metadata": {},
   "outputs": [
    {
     "data": {
      "text/plain": [
       "1"
      ]
     },
     "execution_count": 121,
     "metadata": {},
     "output_type": "execute_result"
    }
   ],
   "source": [
    "get_gram_count('xxx',words_count)"
   ]
  },
  {
   "cell_type": "code",
   "execution_count": 122,
   "metadata": {},
   "outputs": [
    {
     "data": {
      "text/plain": [
       "1"
      ]
     },
     "execution_count": 122,
     "metadata": {},
     "output_type": "execute_result"
    }
   ],
   "source": [
    "get_gram_count('xxx', _2_gram_word_counts)"
   ]
  },
  {
   "cell_type": "code",
   "execution_count": 123,
   "metadata": {},
   "outputs": [],
   "source": [
    "def two_gram_model(sentence):\n",
    "    # 2-gram langau\n",
    "    tokens = cut(sentence)\n",
    "    \n",
    "    probability = 1\n",
    "    \n",
    "    for i in range(len(tokens)-1):\n",
    "        word = tokens[i]\n",
    "        next_word = tokens[i+1]\n",
    "        \n",
    "  \n",
    "        _two_gram_c = get_gram_count(word+next_word, _2_gram_word_counts)\n",
    "        _one_gram_c = get_gram_count(next_word, words_count)\n",
    "        pro = _two_gram_c / _one_gram_c\n",
    "        \n",
    "        probability *= pro\n",
    "        \n",
    "    return probability\n"
   ]
  },
  {
   "cell_type": "code",
   "execution_count": 116,
   "metadata": {},
   "outputs": [
    {
     "data": {
      "text/plain": [
       "2.275687461875643e-21"
      ]
     },
     "execution_count": 116,
     "metadata": {},
     "output_type": "execute_result"
    }
   ],
   "source": [
    "two_gram_model('此外自本周6月12日起除小米手机6等15款机型')"
   ]
  },
  {
   "cell_type": "code",
   "execution_count": 124,
   "metadata": {},
   "outputs": [
    {
     "data": {
      "text/plain": [
       "2.275687461875643e-21"
      ]
     },
     "execution_count": 124,
     "metadata": {},
     "output_type": "execute_result"
    }
   ],
   "source": [
    "two_gram_model('此外自本周6月12日起除小米手机6等15款机型')"
   ]
  },
  {
   "cell_type": "code",
   "execution_count": 125,
   "metadata": {},
   "outputs": [
    {
     "data": {
      "text/plain": [
       "5.554122591926838e-07"
      ]
     },
     "execution_count": 125,
     "metadata": {},
     "output_type": "execute_result"
    }
   ],
   "source": [
    "two_gram_model('前天早上吃晚饭的时候')"
   ]
  },
  {
   "cell_type": "code",
   "execution_count": 126,
   "metadata": {},
   "outputs": [
    {
     "data": {
      "text/plain": [
       "6.612050704674807e-09"
      ]
     },
     "execution_count": 126,
     "metadata": {},
     "output_type": "execute_result"
    }
   ],
   "source": [
    "two_gram_model('前天早上使早饭的时候')"
   ]
  },
  {
   "cell_type": "code",
   "execution_count": 127,
   "metadata": {},
   "outputs": [
    {
     "data": {
      "text/plain": [
       "2.9318978761331787e-06"
      ]
     },
     "execution_count": 127,
     "metadata": {},
     "output_type": "execute_result"
    }
   ],
   "source": [
    "two_gram_model('我请你吃火锅')"
   ]
  },
  {
   "cell_type": "code",
   "execution_count": 128,
   "metadata": {},
   "outputs": [
    {
     "data": {
      "text/plain": [
       "2.124563678357376e-08"
      ]
     },
     "execution_count": 128,
     "metadata": {},
     "output_type": "execute_result"
    }
   ],
   "source": [
    "two_gram_model('我请你吃日料大餐')"
   ]
  },
  {
   "cell_type": "code",
   "execution_count": 129,
   "metadata": {},
   "outputs": [
    {
     "data": {
      "text/plain": [
       "1.8794590165166858e-06"
      ]
     },
     "execution_count": 129,
     "metadata": {},
     "output_type": "execute_result"
    }
   ],
   "source": [
    "two_gram_model('这个人来自清华大学')"
   ]
  },
  {
   "cell_type": "code",
   "execution_count": 130,
   "metadata": {},
   "outputs": [
    {
     "data": {
      "text/plain": [
       "3.185523756807942e-07"
      ]
     },
     "execution_count": 130,
     "metadata": {},
     "output_type": "execute_result"
    }
   ],
   "source": [
    "two_gram_model('这个人来自秦华大学')"
   ]
  },
  {
   "cell_type": "code",
   "execution_count": 131,
   "metadata": {},
   "outputs": [
    {
     "data": {
      "text/plain": [
       "1.7269964078474716e-05"
      ]
     },
     "execution_count": 131,
     "metadata": {},
     "output_type": "execute_result"
    }
   ],
   "source": [
    "two_gram_model('这个花特别好看')"
   ]
  },
  {
   "cell_type": "code",
   "execution_count": 132,
   "metadata": {},
   "outputs": [
    {
     "data": {
      "text/plain": [
       "6.121329650741415e-07"
      ]
     },
     "execution_count": 132,
     "metadata": {},
     "output_type": "execute_result"
    }
   ],
   "source": [
    "two_gram_model('花这特别好看')"
   ]
  },
  {
   "cell_type": "code",
   "execution_count": null,
   "metadata": {},
   "outputs": [],
   "source": []
  },
  {
   "cell_type": "code",
   "execution_count": 2,
   "metadata": {},
   "outputs": [],
   "source": [
    "import random"
   ]
  },
  {
   "cell_type": "code",
   "execution_count": 10,
   "metadata": {},
   "outputs": [],
   "source": [
    "def name():\n",
    "    return random.choice('Jhon | MIke | 老梁'.split('|'))"
   ]
  },
  {
   "cell_type": "code",
   "execution_count": 12,
   "metadata": {},
   "outputs": [
    {
     "data": {
      "text/plain": [
       "'Jhon '"
      ]
     },
     "execution_count": 12,
     "metadata": {},
     "output_type": "execute_result"
    }
   ],
   "source": [
    "name()"
   ]
  },
  {
   "cell_type": "code",
   "execution_count": 13,
   "metadata": {},
   "outputs": [],
   "source": [
    "def hello():\n",
    "    return random.choice('你好 | 您来啦 | 快请进'.split('|'))"
   ]
  },
  {
   "cell_type": "code",
   "execution_count": 19,
   "metadata": {},
   "outputs": [
    {
     "data": {
      "text/plain": [
       "' 您来啦 '"
      ]
     },
     "execution_count": 19,
     "metadata": {},
     "output_type": "execute_result"
    }
   ],
   "source": [
    "hello()"
   ]
  },
  {
   "cell_type": "code",
   "execution_count": 8,
   "metadata": {},
   "outputs": [],
   "source": [
    "def say_hello():\n",
    "    return name() + ' ' + hello()"
   ]
  },
  {
   "cell_type": "code",
   "execution_count": 21,
   "metadata": {},
   "outputs": [
    {
     "data": {
      "text/plain": [
       "' 老梁  快请进'"
      ]
     },
     "execution_count": 21,
     "metadata": {},
     "output_type": "execute_result"
    }
   ],
   "source": [
    "say_hello()"
   ]
  },
  {
   "cell_type": "code",
   "execution_count": null,
   "metadata": {},
   "outputs": [],
   "source": []
  },
  {
   "cell_type": "code",
   "execution_count": null,
   "metadata": {},
   "outputs": [],
   "source": []
  },
  {
   "cell_type": "code",
   "execution_count": null,
   "metadata": {},
   "outputs": [],
   "source": []
  },
  {
   "cell_type": "code",
   "execution_count": null,
   "metadata": {},
   "outputs": [],
   "source": []
  },
  {
   "cell_type": "code",
   "execution_count": null,
   "metadata": {},
   "outputs": [],
   "source": []
  }
 ],
 "metadata": {
  "kernelspec": {
   "display_name": "Python 3",
   "language": "python",
   "name": "python3"
  },
  "language_info": {
   "codemirror_mode": {
    "name": "ipython",
    "version": 3
   },
   "file_extension": ".py",
   "mimetype": "text/x-python",
   "name": "python",
   "nbconvert_exporter": "python",
   "pygments_lexer": "ipython3",
   "version": "3.7.1"
  }
 },
 "nbformat": 4,
 "nbformat_minor": 2
}
